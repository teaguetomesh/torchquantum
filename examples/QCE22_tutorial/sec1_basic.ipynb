{
 "nbformat": 4,
 "nbformat_minor": 0,
 "metadata": {
  "colab": {
   "provenance": [],
   "collapsed_sections": [],
   "toc_visible": true
  },
  "kernelspec": {
   "name": "python3",
   "display_name": "Python 3"
  },
  "language_info": {
   "name": "python"
  },
  "accelerator": "GPU"
 },
 "cells": [
  {
   "cell_type": "markdown",
   "source": [
    "# **Setup**"
   ],
   "metadata": {
    "id": "MX5Sdk7L9pfN",
    "pycharm": {
     "name": "#%% md\n"
    }
   }
  },
  {
   "cell_type": "code",
   "source": [
    "print('Installing torchquantum...')\n",
    "!git clone https://github.com/mit-han-lab/torchquantum.git\n",
    "%cd /content/torchquantum\n",
    "!pip install --editable . 1>/dev/null\n",
    "!pip install matplotlib==3.1.3 1>/dev/null\n",
    "%matplotlib inline\n",
    "print('All required packages have been successfully installed!')"
   ],
   "metadata": {
    "colab": {
     "base_uri": "https://localhost:8080/"
    },
    "id": "f0jC7W3B9nDe",
    "outputId": "2066973c-6bb9-4207-e1ed-5aec9e7016ac",
    "pycharm": {
     "name": "#%%\n"
    }
   },
   "execution_count": 1,
   "outputs": [
    {
     "output_type": "stream",
     "name": "stdout",
     "text": [
      "Installing torchquantum...\n",
      "Cloning into 'torchquantum'...\n",
      "remote: Enumerating objects: 11836, done.\u001B[K\n",
      "remote: Counting objects: 100% (726/726), done.\u001B[K\n",
      "remote: Compressing objects: 100% (306/306), done.\u001B[K\n",
      "remote: Total 11836 (delta 435), reused 685 (delta 405), pack-reused 11110\u001B[K\n",
      "Receiving objects: 100% (11836/11836), 33.59 MiB | 25.33 MiB/s, done.\n",
      "Resolving deltas: 100% (6593/6593), done.\n",
      "/content/torchquantum\n",
      "\u001B[31mERROR: pip's dependency resolver does not currently take into account all the packages that are installed. This behaviour is the source of the following dependency conflicts.\n",
      "torchquantum 0.1.2 requires matplotlib>=3.3.2, but you have matplotlib 3.1.3 which is incompatible.\u001B[0m\n",
      "All required packages have been successfully installed!\n"
     ]
    }
   ]
  },
  {
   "cell_type": "code",
   "source": [
    "import torchquantum as tq\n",
    "import torchquantum.functional as tqf\n",
    "import numpy as np\n",
    "import matplotlib.pyplot as plt\n",
    "import torch"
   ],
   "metadata": {
    "id": "10RsI2oaDXEI",
    "pycharm": {
     "name": "#%%\n"
    }
   },
   "execution_count": 2,
   "outputs": []
  },
  {
   "cell_type": "markdown",
   "source": [
    "# **1. TorchQuantum basic operations**"
   ],
   "metadata": {
    "id": "I3Vi2I17jo86",
    "pycharm": {
     "name": "#%% md\n"
    }
   }
  },
  {
   "cell_type": "markdown",
   "source": [
    "## 1.2 TorchQuantum Operations"
   ],
   "metadata": {
    "id": "Fu9gqh2XNeqM",
    "pycharm": {
     "name": "#%% md\n"
    }
   }
  },
  {
   "cell_type": "markdown",
   "source": [
    "tq.QuantumDevice Usage"
   ],
   "metadata": {
    "id": "abV1dwlE0Ksq",
    "pycharm": {
     "name": "#%% md\n"
    }
   }
  },
  {
   "cell_type": "markdown",
   "source": [
    "Method 1 of using quantum gates through torchquantum.functional"
   ],
   "metadata": {
    "id": "DQHkBqqW0d4C",
    "pycharm": {
     "name": "#%% md\n"
    }
   }
  },
  {
   "cell_type": "code",
   "source": [
    "q_dev = tq.QuantumDevice(n_wires=1)\n",
    "q_dev.reset_states(bsz=1)\n",
    "print(f\"all zero state: {q_dev}\")\n",
    "tqf.h(q_dev, wires=0)\n",
    "print(f\"after h gate: {q_dev}\")\n",
    "\n",
    "tqf.rx(q_dev, wires=0, params=[0.3])\n",
    "\n",
    "print(f\"after rx gate: {q_dev}\")"
   ],
   "metadata": {
    "colab": {
     "base_uri": "https://localhost:8080/"
    },
    "id": "LXuCcc31NeKJ",
    "outputId": "49f1447c-97ec-4af7-ee43-d8b03ee210d1",
    "pycharm": {
     "name": "#%%\n"
    }
   },
   "execution_count": 16,
   "outputs": [
    {
     "output_type": "stream",
     "name": "stdout",
     "text": [
      "all zero state: QuantumDevice 1 wires with states: tensor([[1.+0.j, 0.+0.j]])\n",
      "after h gate: QuantumDevice 1 wires with states: tensor([[0.7071+0.j, 0.7071+0.j]])\n",
      "after rx gate: QuantumDevice 1 wires with states: tensor([[0.6992-0.1057j, 0.6992-0.1057j]])\n"
     ]
    }
   ]
  },
  {
   "cell_type": "code",
   "source": [
    "# method 2 of using tq.Operator\n",
    "q_dev.reset_states(bsz=1)\n",
    "print(f\"all zero state: {q_dev}\")\n",
    "\n",
    "h_gate = tq.H()\n",
    "h_gate(q_dev, wires=0)\n",
    "\n",
    "print(f\"after h gate: {q_dev}\")\n",
    "\n",
    "rx_gate = tq.RX(has_params=True, init_params=[0.3])\n",
    "\n",
    "rx_gate(q_dev, wires=0)\n",
    "\n",
    "print(f\"after rx gate: {q_dev}\")\n",
    "bitstring = tq.measure(q_dev, n_shots=1024, draw_id=0)\n",
    "\n",
    "print(bitstring)"
   ],
   "metadata": {
    "colab": {
     "base_uri": "https://localhost:8080/",
     "height": 361
    },
    "id": "L-UjU64i0czW",
    "outputId": "691e2f60-3054-4917-d341-4531f0ae446c",
    "pycharm": {
     "name": "#%%\n"
    }
   },
   "execution_count": 19,
   "outputs": [
    {
     "output_type": "stream",
     "name": "stdout",
     "text": [
      "all zero state: QuantumDevice 1 wires with states: tensor([[1.+0.j, 0.+0.j]])\n",
      "after h gate: QuantumDevice 1 wires with states: tensor([[0.7071+0.j, 0.7071+0.j]])\n",
      "after rx gate: QuantumDevice 1 wires with states: tensor([[0.6992-0.1057j, 0.6992-0.1057j]])\n"
     ]
    },
    {
     "output_type": "display_data",
     "data": {
      "text/plain": [
       "<Figure size 432x288 with 1 Axes>"
      ],
      "image/png": "[encoded data removed]"
     },
     "metadata": {
      "needs_background": "light"
     }
    },
    {
     "output_type": "stream",
     "name": "stdout",
     "text": [
      "[OrderedDict([('0', 503), ('1', 521)])]\n"
     ]
    }
   ]
  },
  {
   "cell_type": "code",
   "source": [
    "# tq.QuantumState to prepare a EPR pair\n",
    "\n",
    "q_state = tq.QuantumState(n_wires=2)\n",
    "q_state.h(wires=0)\n",
    "q_state.cnot(wires=[0, 1])\n",
    "\n",
    "print(q_state)\n",
    "bitstring = tq.measure(q_state, n_shots=1024, draw_id=0)\n",
    "print(bitstring)\n"
   ],
   "metadata": {
    "colab": {
     "base_uri": "https://localhost:8080/",
     "height": 350
    },
    "id": "DSxQlQ7C0wrG",
    "outputId": "af933737-4234-4da8-9312-6d7d58378925",
    "pycharm": {
     "name": "#%%\n"
    }
   },
   "execution_count": 20,
   "outputs": [
    {
     "output_type": "stream",
     "name": "stdout",
     "text": [
      "QuantumState 2 wires \n",
      " state: tensor([[0.7071+0.j, 0.0000+0.j, 0.0000+0.j, 0.7071+0.j]])\n"
     ]
    },
    {
     "output_type": "display_data",
     "data": {
      "text/plain": [
       "<Figure size 432x288 with 1 Axes>"
      ],
      "image/png": "[encoded data removed]"
     },
     "metadata": {
      "needs_background": "light"
     }
    },
    {
     "output_type": "stream",
     "name": "stdout",
     "text": [
      "[OrderedDict([('00', 492), ('01', 0), ('10', 0), ('11', 532)])]\n"
     ]
    }
   ]
  },
  {
   "cell_type": "code",
   "source": [
    "# tq.QuantumState\n",
    "q_state = tq.QuantumState(n_wires=3)\n",
    "q_state.x(wires=1)\n",
    "q_state.rx(wires=2, params=0.6 * np.pi)\n",
    "print(q_state)\n",
    "\n",
    "q_state.ry(wires=0, params=0.3 * np.pi)\n",
    "\n",
    "q_state.qubitunitary(wires=1, params=[[0, 1j], [-1j, 0]])\n",
    "\n",
    "q_state.cnot(wires=[0, 1])\n",
    "\n",
    "print(q_state)\n",
    "bitstring = tq.measure(q_state, n_shots=1024, draw_id=0)\n",
    "\n",
    "print(bitstring)"
   ],
   "metadata": {
    "colab": {
     "base_uri": "https://localhost:8080/",
     "height": 446
    },
    "id": "VJhfSURF06lP",
    "outputId": "e81c9476-4c85-4f33-f58d-ef2bd64fd82f",
    "pycharm": {
     "name": "#%%\n"
    }
   },
   "execution_count": 21,
   "outputs": [
    {
     "output_type": "stream",
     "name": "stdout",
     "text": [
      "QuantumState 3 wires \n",
      " state: tensor([[0.0000+0.0000j, 0.0000+0.0000j, 0.5878+0.0000j, 0.0000-0.8090j,\n",
      "         0.0000+0.0000j, 0.0000+0.0000j, 0.0000+0.0000j, 0.0000+0.0000j]])\n",
      "QuantumState 3 wires \n",
      " state: tensor([[0.0000+0.5237j, 0.7208+0.0000j, 0.0000+0.0000j, 0.0000+0.0000j,\n",
      "         0.0000+0.0000j, 0.0000+0.0000j, 0.0000+0.2668j, 0.3673+0.0000j]])\n"
     ]
    },
    {
     "output_type": "display_data",
     "data": {
      "text/plain": [
       "<Figure size 432x288 with 1 Axes>"
      ],
      "image/png": "[encoded data removed]"
     },
     "metadata": {
      "needs_background": "light"
     }
    },
    {
     "output_type": "stream",
     "name": "stdout",
     "text": [
      "[OrderedDict([('000', 273), ('001', 415), ('010', 0), ('011', 0), ('100', 0), ('101', 0), ('110', 138), ('111', 198)])]\n"
     ]
    }
   ]
  },
  {
   "cell_type": "markdown",
   "source": [
    "Batch mode process different states"
   ],
   "metadata": {
    "id": "rYQ1mg1XCt5P",
    "pycharm": {
     "name": "#%% md\n"
    }
   }
  },
  {
   "cell_type": "code",
   "source": [
    "# batch mode processing\n",
    "\n",
    "q_state = tq.QuantumState(n_wires=3, bsz=64)\n",
    "q_state.x(wires=1)\n",
    "q_state.rx(wires=2, params=0.6 * np.pi)\n",
    "print(q_state)\n"
   ],
   "metadata": {
    "colab": {
     "base_uri": "https://localhost:8080/"
    },
    "id": "l3ffmGshCrkQ",
    "outputId": "18ae0a4f-1b00-4c27-fb4b-ca394c3ddaab",
    "pycharm": {
     "name": "#%%\n"
    }
   },
   "execution_count": 22,
   "outputs": [
    {
     "output_type": "stream",
     "name": "stdout",
     "text": [
      "QuantumState 3 wires \n",
      " state: tensor([[0.0000+0.0000j, 0.0000+0.0000j, 0.5878+0.0000j, 0.0000-0.8090j,\n",
      "         0.0000+0.0000j, 0.0000+0.0000j, 0.0000+0.0000j, 0.0000+0.0000j],\n",
      "        [0.0000+0.0000j, 0.0000+0.0000j, 0.5878+0.0000j, 0.0000-0.8090j,\n",
      "         0.0000+0.0000j, 0.0000+0.0000j, 0.0000+0.0000j, 0.0000+0.0000j],\n",
      "        [0.0000+0.0000j, 0.0000+0.0000j, 0.5878+0.0000j, 0.0000-0.8090j,\n",
      "         0.0000+0.0000j, 0.0000+0.0000j, 0.0000+0.0000j, 0.0000+0.0000j],\n",
      "        [0.0000+0.0000j, 0.0000+0.0000j, 0.5878+0.0000j, 0.0000-0.8090j,\n",
      "         0.0000+0.0000j, 0.0000+0.0000j, 0.0000+0.0000j, 0.0000+0.0000j],\n",
      "        [0.0000+0.0000j, 0.0000+0.0000j, 0.5878+0.0000j, 0.0000-0.8090j,\n",
      "         0.0000+0.0000j, 0.0000+0.0000j, 0.0000+0.0000j, 0.0000+0.0000j],\n",
      "        [0.0000+0.0000j, 0.0000+0.0000j, 0.5878+0.0000j, 0.0000-0.8090j,\n",
      "         0.0000+0.0000j, 0.0000+0.0000j, 0.0000+0.0000j, 0.0000+0.0000j],\n",
      "        [0.0000+0.0000j, 0.0000+0.0000j, 0.5878+0.0000j, 0.0000-0.8090j,\n",
      "         0.0000+0.0000j, 0.0000+0.0000j, 0.0000+0.0000j, 0.0000+0.0000j],\n",
      "        [0.0000+0.0000j, 0.0000+0.0000j, 0.5878+0.0000j, 0.0000-0.8090j,\n",
      "         0.0000+0.0000j, 0.0000+0.0000j, 0.0000+0.0000j, 0.0000+0.0000j],\n",
      "        [0.0000+0.0000j, 0.0000+0.0000j, 0.5878+0.0000j, 0.0000-0.8090j,\n",
      "         0.0000+0.0000j, 0.0000+0.0000j, 0.0000+0.0000j, 0.0000+0.0000j],\n",
      "        [0.0000+0.0000j, 0.0000+0.0000j, 0.5878+0.0000j, 0.0000-0.8090j,\n",
      "         0.0000+0.0000j, 0.0000+0.0000j, 0.0000+0.0000j, 0.0000+0.0000j],\n",
      "        [0.0000+0.0000j, 0.0000+0.0000j, 0.5878+0.0000j, 0.0000-0.8090j,\n",
      "         0.0000+0.0000j, 0.0000+0.0000j, 0.0000+0.0000j, 0.0000+0.0000j],\n",
      "        [0.0000+0.0000j, 0.0000+0.0000j, 0.5878+0.0000j, 0.0000-0.8090j,\n",
      "         0.0000+0.0000j, 0.0000+0.0000j, 0.0000+0.0000j, 0.0000+0.0000j],\n",
      "        [0.0000+0.0000j, 0.0000+0.0000j, 0.5878+0.0000j, 0.0000-0.8090j,\n",
      "         0.0000+0.0000j, 0.0000+0.0000j, 0.0000+0.0000j, 0.0000+0.0000j],\n",
      "        [0.0000+0.0000j, 0.0000+0.0000j, 0.5878+0.0000j, 0.0000-0.8090j,\n",
      "         0.0000+0.0000j, 0.0000+0.0000j, 0.0000+0.0000j, 0.0000+0.0000j],\n",
      "        [0.0000+0.0000j, 0.0000+0.0000j, 0.5878+0.0000j, 0.0000-0.8090j,\n",
      "         0.0000+0.0000j, 0.0000+0.0000j, 0.0000+0.0000j, 0.0000+0.0000j],\n",
      "        [0.0000+0.0000j, 0.0000+0.0000j, 0.5878+0.0000j, 0.0000-0.8090j,\n",
      "         0.0000+0.0000j, 0.0000+0.0000j, 0.0000+0.0000j, 0.0000+0.0000j],\n",
      "        [0.0000+0.0000j, 0.0000+0.0000j, 0.5878+0.0000j, 0.0000-0.8090j,\n",
      "         0.0000+0.0000j, 0.0000+0.0000j, 0.0000+0.0000j, 0.0000+0.0000j],\n",
      "        [0.0000+0.0000j, 0.0000+0.0000j, 0.5878+0.0000j, 0.0000-0.8090j,\n",
      "         0.0000+0.0000j, 0.0000+0.0000j, 0.0000+0.0000j, 0.0000+0.0000j],\n",
      "        [0.0000+0.0000j, 0.0000+0.0000j, 0.5878+0.0000j, 0.0000-0.8090j,\n",
      "         0.0000+0.0000j, 0.0000+0.0000j, 0.0000+0.0000j, 0.0000+0.0000j],\n",
      "        [0.0000+0.0000j, 0.0000+0.0000j, 0.5878+0.0000j, 0.0000-0.8090j,\n",
      "         0.0000+0.0000j, 0.0000+0.0000j, 0.0000+0.0000j, 0.0000+0.0000j],\n",
      "        [0.0000+0.0000j, 0.0000+0.0000j, 0.5878+0.0000j, 0.0000-0.8090j,\n",
      "         0.0000+0.0000j, 0.0000+0.0000j, 0.0000+0.0000j, 0.0000+0.0000j],\n",
      "        [0.0000+0.0000j, 0.0000+0.0000j, 0.5878+0.0000j, 0.0000-0.8090j,\n",
      "         0.0000+0.0000j, 0.0000+0.0000j, 0.0000+0.0000j, 0.0000+0.0000j],\n",
      "        [0.0000+0.0000j, 0.0000+0.0000j, 0.5878+0.0000j, 0.0000-0.8090j,\n",
      "         0.0000+0.0000j, 0.0000+0.0000j, 0.0000+0.0000j, 0.0000+0.0000j],\n",
      "        [0.0000+0.0000j, 0.0000+0.0000j, 0.5878+0.0000j, 0.0000-0.8090j,\n",
      "         0.0000+0.0000j, 0.0000+0.0000j, 0.0000+0.0000j, 0.0000+0.0000j],\n",
      "        [0.0000+0.0000j, 0.0000+0.0000j, 0.5878+0.0000j, 0.0000-0.8090j,\n",
      "         0.0000+0.0000j, 0.0000+0.0000j, 0.0000+0.0000j, 0.0000+0.0000j],\n",
      "        [0.0000+0.0000j, 0.0000+0.0000j, 0.5878+0.0000j, 0.0000-0.8090j,\n",
      "         0.0000+0.0000j, 0.0000+0.0000j, 0.0000+0.0000j, 0.0000+0.0000j],\n",
      "        [0.0000+0.0000j, 0.0000+0.0000j, 0.5878+0.0000j, 0.0000-0.8090j,\n",
      "         0.0000+0.0000j, 0.0000+0.0000j, 0.0000+0.0000j, 0.0000+0.0000j],\n",
      "        [0.0000+0.0000j, 0.0000+0.0000j, 0.5878+0.0000j, 0.0000-0.8090j,\n",
      "         0.0000+0.0000j, 0.0000+0.0000j, 0.0000+0.0000j, 0.0000+0.0000j],\n",
      "        [0.0000+0.0000j, 0.0000+0.0000j, 0.5878+0.0000j, 0.0000-0.8090j,\n",
      "         0.0000+0.0000j, 0.0000+0.0000j, 0.0000+0.0000j, 0.0000+0.0000j],\n",
      "        [0.0000+0.0000j, 0.0000+0.0000j, 0.5878+0.0000j, 0.0000-0.8090j,\n",
      "         0.0000+0.0000j, 0.0000+0.0000j, 0.0000+0.0000j, 0.0000+0.0000j],\n",
      "        [0.0000+0.0000j, 0.0000+0.0000j, 0.5878+0.0000j, 0.0000-0.8090j,\n",
      "         0.0000+0.0000j, 0.0000+0.0000j, 0.0000+0.0000j, 0.0000+0.0000j],\n",
      "        [0.0000+0.0000j, 0.0000+0.0000j, 0.5878+0.0000j, 0.0000-0.8090j,\n",
      "         0.0000+0.0000j, 0.0000+0.0000j, 0.0000+0.0000j, 0.0000+0.0000j],\n",
      "        [0.0000+0.0000j, 0.0000+0.0000j, 0.5878+0.0000j, 0.0000-0.8090j,\n",
      "         0.0000+0.0000j, 0.0000+0.0000j, 0.0000+0.0000j, 0.0000+0.0000j],\n",
      "        [0.0000+0.0000j, 0.0000+0.0000j, 0.5878+0.0000j, 0.0000-0.8090j,\n",
      "         0.0000+0.0000j, 0.0000+0.0000j, 0.0000+0.0000j, 0.0000+0.0000j],\n",
      "        [0.0000+0.0000j, 0.0000+0.0000j, 0.5878+0.0000j, 0.0000-0.8090j,\n",
      "         0.0000+0.0000j, 0.0000+0.0000j, 0.0000+0.0000j, 0.0000+0.0000j],\n",
      "        [0.0000+0.0000j, 0.0000+0.0000j, 0.5878+0.0000j, 0.0000-0.8090j,\n",
      "         0.0000+0.0000j, 0.0000+0.0000j, 0.0000+0.0000j, 0.0000+0.0000j],\n",
      "        [0.0000+0.0000j, 0.0000+0.0000j, 0.5878+0.0000j, 0.0000-0.8090j,\n",
      "         0.0000+0.0000j, 0.0000+0.0000j, 0.0000+0.0000j, 0.0000+0.0000j],\n",
      "        [0.0000+0.0000j, 0.0000+0.0000j, 0.5878+0.0000j, 0.0000-0.8090j,\n",
      "         0.0000+0.0000j, 0.0000+0.0000j, 0.0000+0.0000j, 0.0000+0.0000j],\n",
      "        [0.0000+0.0000j, 0.0000+0.0000j, 0.5878+0.0000j, 0.0000-0.8090j,\n",
      "         0.0000+0.0000j, 0.0000+0.0000j, 0.0000+0.0000j, 0.0000+0.0000j],\n",
      "        [0.0000+0.0000j, 0.0000+0.0000j, 0.5878+0.0000j, 0.0000-0.8090j,\n",
      "         0.0000+0.0000j, 0.0000+0.0000j, 0.0000+0.0000j, 0.0000+0.0000j],\n",
      "        [0.0000+0.0000j, 0.0000+0.0000j, 0.5878+0.0000j, 0.0000-0.8090j,\n",
      "         0.0000+0.0000j, 0.0000+0.0000j, 0.0000+0.0000j, 0.0000+0.0000j],\n",
      "        [0.0000+0.0000j, 0.0000+0.0000j, 0.5878+0.0000j, 0.0000-0.8090j,\n",
      "         0.0000+0.0000j, 0.0000+0.0000j, 0.0000+0.0000j, 0.0000+0.0000j],\n",
      "        [0.0000+0.0000j, 0.0000+0.0000j, 0.5878+0.0000j, 0.0000-0.8090j,\n",
      "         0.0000+0.0000j, 0.0000+0.0000j, 0.0000+0.0000j, 0.0000+0.0000j],\n",
      "        [0.0000+0.0000j, 0.0000+0.0000j, 0.5878+0.0000j, 0.0000-0.8090j,\n",
      "         0.0000+0.0000j, 0.0000+0.0000j, 0.0000+0.0000j, 0.0000+0.0000j],\n",
      "        [0.0000+0.0000j, 0.0000+0.0000j, 0.5878+0.0000j, 0.0000-0.8090j,\n",
      "         0.0000+0.0000j, 0.0000+0.0000j, 0.0000+0.0000j, 0.0000+0.0000j],\n",
      "        [0.0000+0.0000j, 0.0000+0.0000j, 0.5878+0.0000j, 0.0000-0.8090j,\n",
      "         0.0000+0.0000j, 0.0000+0.0000j, 0.0000+0.0000j, 0.0000+0.0000j],\n",
      "        [0.0000+0.0000j, 0.0000+0.0000j, 0.5878+0.0000j, 0.0000-0.8090j,\n",
      "         0.0000+0.0000j, 0.0000+0.0000j, 0.0000+0.0000j, 0.0000+0.0000j],\n",
      "        [0.0000+0.0000j, 0.0000+0.0000j, 0.5878+0.0000j, 0.0000-0.8090j,\n",
      "         0.0000+0.0000j, 0.0000+0.0000j, 0.0000+0.0000j, 0.0000+0.0000j],\n",
      "        [0.0000+0.0000j, 0.0000+0.0000j, 0.5878+0.0000j, 0.0000-0.8090j,\n",
      "         0.0000+0.0000j, 0.0000+0.0000j, 0.0000+0.0000j, 0.0000+0.0000j],\n",
      "        [0.0000+0.0000j, 0.0000+0.0000j, 0.5878+0.0000j, 0.0000-0.8090j,\n",
      "         0.0000+0.0000j, 0.0000+0.0000j, 0.0000+0.0000j, 0.0000+0.0000j],\n",
      "        [0.0000+0.0000j, 0.0000+0.0000j, 0.5878+0.0000j, 0.0000-0.8090j,\n",
      "         0.0000+0.0000j, 0.0000+0.0000j, 0.0000+0.0000j, 0.0000+0.0000j],\n",
      "        [0.0000+0.0000j, 0.0000+0.0000j, 0.5878+0.0000j, 0.0000-0.8090j,\n",
      "         0.0000+0.0000j, 0.0000+0.0000j, 0.0000+0.0000j, 0.0000+0.0000j],\n",
      "        [0.0000+0.0000j, 0.0000+0.0000j, 0.5878+0.0000j, 0.0000-0.8090j,\n",
      "         0.0000+0.0000j, 0.0000+0.0000j, 0.0000+0.0000j, 0.0000+0.0000j],\n",
      "        [0.0000+0.0000j, 0.0000+0.0000j, 0.5878+0.0000j, 0.0000-0.8090j,\n",
      "         0.0000+0.0000j, 0.0000+0.0000j, 0.0000+0.0000j, 0.0000+0.0000j],\n",
      "        [0.0000+0.0000j, 0.0000+0.0000j, 0.5878+0.0000j, 0.0000-0.8090j,\n",
      "         0.0000+0.0000j, 0.0000+0.0000j, 0.0000+0.0000j, 0.0000+0.0000j],\n",
      "        [0.0000+0.0000j, 0.0000+0.0000j, 0.5878+0.0000j, 0.0000-0.8090j,\n",
      "         0.0000+0.0000j, 0.0000+0.0000j, 0.0000+0.0000j, 0.0000+0.0000j],\n",
      "        [0.0000+0.0000j, 0.0000+0.0000j, 0.5878+0.0000j, 0.0000-0.8090j,\n",
      "         0.0000+0.0000j, 0.0000+0.0000j, 0.0000+0.0000j, 0.0000+0.0000j],\n",
      "        [0.0000+0.0000j, 0.0000+0.0000j, 0.5878+0.0000j, 0.0000-0.8090j,\n",
      "         0.0000+0.0000j, 0.0000+0.0000j, 0.0000+0.0000j, 0.0000+0.0000j],\n",
      "        [0.0000+0.0000j, 0.0000+0.0000j, 0.5878+0.0000j, 0.0000-0.8090j,\n",
      "         0.0000+0.0000j, 0.0000+0.0000j, 0.0000+0.0000j, 0.0000+0.0000j],\n",
      "        [0.0000+0.0000j, 0.0000+0.0000j, 0.5878+0.0000j, 0.0000-0.8090j,\n",
      "         0.0000+0.0000j, 0.0000+0.0000j, 0.0000+0.0000j, 0.0000+0.0000j],\n",
      "        [0.0000+0.0000j, 0.0000+0.0000j, 0.5878+0.0000j, 0.0000-0.8090j,\n",
      "         0.0000+0.0000j, 0.0000+0.0000j, 0.0000+0.0000j, 0.0000+0.0000j],\n",
      "        [0.0000+0.0000j, 0.0000+0.0000j, 0.5878+0.0000j, 0.0000-0.8090j,\n",
      "         0.0000+0.0000j, 0.0000+0.0000j, 0.0000+0.0000j, 0.0000+0.0000j],\n",
      "        [0.0000+0.0000j, 0.0000+0.0000j, 0.5878+0.0000j, 0.0000-0.8090j,\n",
      "         0.0000+0.0000j, 0.0000+0.0000j, 0.0000+0.0000j, 0.0000+0.0000j],\n",
      "        [0.0000+0.0000j, 0.0000+0.0000j, 0.5878+0.0000j, 0.0000-0.8090j,\n",
      "         0.0000+0.0000j, 0.0000+0.0000j, 0.0000+0.0000j, 0.0000+0.0000j]])\n"
     ]
    }
   ]
  },
  {
   "cell_type": "code",
   "source": [
    "q_state = tq.QuantumState(n_wires=2)\n",
    "print(q_state)\n",
    "q_state.set_states(torch.tensor([[0, 0, 1, 0], [0, 1, 0, 0]]))\n",
    "print(q_state)\n",
    "\n",
    "q_state.x(wires=0)\n",
    "print(q_state)"
   ],
   "metadata": {
    "colab": {
     "base_uri": "https://localhost:8080/"
    },
    "id": "eCtQvKMH1JjI",
    "outputId": "86f9ca9d-e3c8-4c34-9fa6-82911b581ac2",
    "pycharm": {
     "name": "#%%\n"
    }
   },
   "execution_count": 23,
   "outputs": [
    {
     "output_type": "stream",
     "name": "stdout",
     "text": [
      "QuantumState 2 wires \n",
      " state: tensor([[1.+0.j, 0.+0.j, 0.+0.j, 0.+0.j]])\n",
      "QuantumState 2 wires \n",
      " state: tensor([[0.+0.j, 0.+0.j, 1.+0.j, 0.+0.j],\n",
      "        [0.+0.j, 1.+0.j, 0.+0.j, 0.+0.j]])\n",
      "QuantumState 2 wires \n",
      " state: tensor([[1.+0.j, 0.+0.j, 0.+0.j, 0.+0.j],\n",
      "        [0.+0.j, 0.+0.j, 0.+0.j, 1.+0.j]])\n"
     ]
    },
    {
     "output_type": "stream",
     "name": "stderr",
     "text": [
      "/content/torchquantum/torchquantum/states.py:47: UserWarning: To copy construct from a tensor, it is recommended to use sourceTensor.clone().detach() or sourceTensor.clone().detach().requires_grad_(True), rather than torch.tensor(sourceTensor).\n",
      "  states = torch.tensor(states, dtype=C_DTYPE).to(self.state.device)\n"
     ]
    }
   ]
  },
  {
   "cell_type": "code",
   "source": [
    "# demonstrate the GPU processing\n",
    "\n",
    "n_qubits = 10\n",
    "bsz = 8\n",
    "run_iters = 5\n",
    "use_gpu = False\n",
    "\n",
    "q_state = tq.QuantumState(n_wires=n_qubits, bsz=bsz)\n",
    "if use_gpu:\n",
    "    q_state.to(torch.device('cuda'))\n",
    "\n",
    "# start = time.time()\n",
    "\n",
    "start = torch.cuda.Event(enable_timing=True)\n",
    "end = torch.cuda.Event(enable_timing=True)\n",
    "\n",
    "start.record()\n",
    "for k in range(run_iters):\n",
    "    print(k)\n",
    "    for qid in range(n_qubits):\n",
    "        q_state.rx(qid, params=np.random.rand())\n",
    "        q_state.cnot(wires=[qid, (qid+1) % n_qubits])\n",
    "end.record()\n",
    "\n",
    "torch.cuda.synchronize()\n",
    "\n",
    "print(f\"Use GPU: {use_gpu}, avg runtime for circuit with {n_qubits} qubits, {2*n_qubits} gates, {bsz} batch size is {start.elapsed_time(end) / run_iters / 1000:.2f} second\")\n",
    "\n"
   ],
   "metadata": {
    "id": "FCD00B-f1R14",
    "pycharm": {
     "name": "#%%\n"
    }
   },
   "execution_count": null,
   "outputs": []
  },
  {
   "cell_type": "code",
   "source": [
    "# automatic gradient computation\n",
    "q_state = tq.QuantumState(n_wires=2)\n",
    "q_state._states.requires_grad = True\n",
    "\n",
    "q_state.x(wires=0)\n",
    "q_state.rx(wires=1, params=0.6 * np.pi)\n",
    "print(q_state)\n",
    "target_quantum_state = torch.tensor([0, 0, 0, 1], dtype=torch.complex64)\n",
    "loss = 1 - (q_state.get_states_1d()[0] @ target_quantum_state).abs()\n",
    "\n",
    "print(loss)\n",
    "\n",
    "loss.backward()\n",
    "\n",
    "print(q_state._states.grad)\n"
   ],
   "metadata": {
    "colab": {
     "base_uri": "https://localhost:8080/"
    },
    "id": "FrmkOuSw1lOI",
    "outputId": "063d3d28-9a16-435c-ecf7-b16baaae2880",
    "pycharm": {
     "name": "#%%\n"
    }
   },
   "execution_count": 3,
   "outputs": [
    {
     "output_type": "stream",
     "name": "stdout",
     "text": [
      "QuantumState 2 wires \n",
      " state: tensor([[0.0000+0.0000j, 0.0000+0.0000j, 0.5878+0.0000j, 0.0000-0.8090j]],\n",
      "       grad_fn=<UnsafeViewBackward0>)\n",
      "tensor(0.1910, grad_fn=<RsubBackward1>)\n",
      "tensor([[[-0.8090+0.0000j,  0.0000+0.5878j],\n",
      "         [ 0.0000+0.0000j,  0.0000+0.0000j]]])\n"
     ]
    }
   ]
  },
  {
   "cell_type": "code",
   "source": [
    "# build a circuit\n",
    "\n",
    "class QModel(tq.QuantumModule):\n",
    "    def __init__(self):\n",
    "        super().__init__()\n",
    "        self.n_wires = 2\n",
    "        self.u3_0 = tq.U3(has_params=True, trainable=True)\n",
    "        self.u3_1 = tq.U3(has_params=True, trainable=True)\n",
    "        self.cu3_0 = tq.CU3(has_params=True, trainable=True)\n",
    "        self.cu3_1 = tq.CU3(has_params=True, trainable=True)\n",
    "        self.u3_2 = tq.U3(has_params=True, trainable=True)\n",
    "        self.u3_3 = tq.U3(has_params=True, trainable=True)\n",
    "        self.random_layer = tq.RandomLayer(n_ops=10,\n",
    "                                           wires=list(range(self.n_wires)))\n",
    "\n",
    "    def forward(self, q_device: tq.QuantumDevice):\n",
    "        self.u3_0(q_device, wires=0)\n",
    "        self.u3_1(q_device, wires=1)\n",
    "        self.cu3_0(q_device, wires=[0, 1])\n",
    "        self.u3_2(q_device, wires=0)\n",
    "        self.u3_3(q_device, wires=1)\n",
    "        self.cu3_1(q_device, wires=[1, 0])\n",
    "        self.random_layer(q_device)\n",
    "\n",
    "\n",
    "q_dev = tq.QuantumDevice(n_wires=2)\n",
    "q_dev.reset_states(bsz=3)\n",
    "print(q_dev)\n",
    "\n",
    "model = QModel()\n",
    "model(q_dev)\n",
    "print(q_dev)"
   ],
   "metadata": {
    "colab": {
     "base_uri": "https://localhost:8080/"
    },
    "id": "11F-rQRN1q1g",
    "outputId": "6568e55e-408c-44d0-fee6-9cd544b62f17",
    "pycharm": {
     "name": "#%%\n"
    }
   },
   "execution_count": 4,
   "outputs": [
    {
     "output_type": "stream",
     "name": "stdout",
     "text": [
      "QuantumDevice 2 wires with states: tensor([[1.+0.j, 0.+0.j, 0.+0.j, 0.+0.j],\n",
      "        [1.+0.j, 0.+0.j, 0.+0.j, 0.+0.j],\n",
      "        [1.+0.j, 0.+0.j, 0.+0.j, 0.+0.j]])\n",
      "QuantumDevice 2 wires with states: tensor([[ 0.1543-0.2309j,  0.2192-0.5838j, -0.4387-0.5519j, -0.0495+0.1859j],\n",
      "        [ 0.1543-0.2309j,  0.2192-0.5838j, -0.4387-0.5519j, -0.0495+0.1859j],\n",
      "        [ 0.1543-0.2309j,  0.2192-0.5838j, -0.4387-0.5519j, -0.0495+0.1859j]],\n",
      "       grad_fn=<UnsafeViewBackward0>)\n"
     ]
    }
   ]
  },
  {
   "cell_type": "code",
   "source": [
    "# easy conversion to qiskit\n",
    "from torchquantum.plugin.qiskit_plugin import tq2qiskit\n",
    "\n",
    "circ = tq2qiskit(q_dev, model)\n",
    "circ.draw('mpl')"
   ],
   "metadata": {
    "colab": {
     "base_uri": "https://localhost:8080/",
     "height": 140
    },
    "id": "ZLa5glSA1s-J",
    "outputId": "a4d5c348-3a67-4a71-b2e1-acb43e7251d5",
    "pycharm": {
     "name": "#%%\n"
    }
   },
   "execution_count": 5,
   "outputs": [
    {
     "output_type": "execute_result",
     "data": {
      "text/plain": [
       "<Figure size 1170.05x144.48 with 1 Axes>"
      ],
      "image/png": "[encoded data removed]"
     },
     "metadata": {},
     "execution_count": 5
    }
   ]
  },
  {
   "cell_type": "code",
   "source": [
    "# "
   ],
   "metadata": {
    "id": "qXO5aA1p27_L",
    "pycharm": {
     "name": "#%%\n"
    }
   },
   "execution_count": null,
   "outputs": []
  },
  {
   "cell_type": "code",
   "source": [
    "# easy deployment on real quantum machine\n",
    "from torchquantum.plugin.qiskit_plugin import tq2qiskit\n",
    "from torchquantum.plugin.qiskit_processor import QiskitProcessor\n",
    "from qiskit import IBMQ\n",
    "IBMQ.save_account('0238b0afc0dc515fe7987b02706791d1719cb89b68befedc125eded0607e6e9e9f26d3eed482f66fdc45fdfceca3aab2edb9519d96b39e9c78040194b86e7858', overwrite=True)\n",
    "\n",
    "processor = QiskitProcessor(use_real_qc=False, max_jobs=1)\n",
    "circ = tq2qiskit(q_dev, model)\n",
    "circ.measure_all()\n",
    "\n",
    "res = processor.process_ready_circs(q_dev, [circ])\n",
    "\n",
    "# this is the expectation value\n",
    "print(res)\n"
   ],
   "metadata": {
    "colab": {
     "base_uri": "https://localhost:8080/"
    },
    "id": "EYFUK2Kn2bla",
    "outputId": "63b38736-975a-4c2f-ad93-0c621d2897f9",
    "pycharm": {
     "name": "#%%\n"
    }
   },
   "execution_count": 6,
   "outputs": [
    {
     "output_type": "stream",
     "name": "stderr",
     "text": [
      "100%|██████████| 1/1 [00:00<00:00,  7.08it/s]\n"
     ]
    },
    {
     "output_type": "stream",
     "name": "stdout",
     "text": [
      "Job Status: job has successfully run\n",
      "tensor([[-0.0598,  0.1426]], dtype=torch.float64)\n"
     ]
    }
   ]
  },
  {
   "cell_type": "code",
   "source": [
    "# speedup comparison with Qiskit\n"
   ],
   "metadata": {
    "id": "OpOYtgn35NbG",
    "pycharm": {
     "name": "#%%\n"
    }
   },
   "execution_count": null,
   "outputs": []
  },
  {
   "cell_type": "code",
   "source": [
    "! pip install pennylane"
   ],
   "metadata": {
    "colab": {
     "base_uri": "https://localhost:8080/"
    },
    "id": "eYQShCDEMA2O",
    "outputId": "a32f8801-1253-4447-e480-58552dea6a29",
    "pycharm": {
     "name": "#%%\n"
    }
   },
   "execution_count": 3,
   "outputs": [
    {
     "output_type": "stream",
     "name": "stdout",
     "text": [
      "Looking in indexes: https://pypi.org/simple, https://us-python.pkg.dev/colab-wheels/public/simple/\n",
      "Collecting pennylane\n",
      "  Downloading PennyLane-0.25.1-py3-none-any.whl (1.0 MB)\n",
      "\u001B[K     |████████████████████████████████| 1.0 MB 35.4 MB/s \n",
      "\u001B[?25hRequirement already satisfied: appdirs in /usr/local/lib/python3.7/dist-packages (from pennylane) (1.4.4)\n",
      "Requirement already satisfied: autograd in /usr/local/lib/python3.7/dist-packages (from pennylane) (1.4)\n",
      "Requirement already satisfied: scipy in /usr/local/lib/python3.7/dist-packages (from pennylane) (1.7.3)\n",
      "Requirement already satisfied: cachetools in /usr/local/lib/python3.7/dist-packages (from pennylane) (4.2.4)\n",
      "Requirement already satisfied: toml in /usr/local/lib/python3.7/dist-packages (from pennylane) (0.10.2)\n",
      "Requirement already satisfied: networkx in /usr/local/lib/python3.7/dist-packages (from pennylane) (2.6.3)\n",
      "Collecting pennylane-lightning>=0.25\n",
      "  Downloading PennyLane_Lightning-0.25.1-cp37-cp37m-manylinux_2_17_x86_64.manylinux2014_x86_64.whl (13.6 MB)\n",
      "\u001B[K     |████████████████████████████████| 13.6 MB 29.3 MB/s \n",
      "\u001B[?25hRequirement already satisfied: numpy in /usr/local/lib/python3.7/dist-packages (from pennylane) (1.21.6)\n",
      "Collecting semantic-version>=2.7\n",
      "  Downloading semantic_version-2.10.0-py2.py3-none-any.whl (15 kB)\n",
      "Collecting autoray>=0.3.1\n",
      "  Downloading autoray-0.3.2-py3-none-any.whl (36 kB)\n",
      "Requirement already satisfied: retworkx in /usr/local/lib/python3.7/dist-packages (from pennylane) (0.11.0)\n",
      "Collecting ninja\n",
      "  Downloading ninja-1.10.2.3-py2.py3-none-manylinux_2_5_x86_64.manylinux1_x86_64.whl (108 kB)\n",
      "\u001B[K     |████████████████████████████████| 108 kB 68.7 MB/s \n",
      "\u001B[?25hRequirement already satisfied: future>=0.15.2 in /usr/local/lib/python3.7/dist-packages (from autograd->pennylane) (0.16.0)\n",
      "Installing collected packages: ninja, semantic-version, pennylane-lightning, autoray, pennylane\n",
      "Successfully installed autoray-0.3.2 ninja-1.10.2.3 pennylane-0.25.1 pennylane-lightning-0.25.1 semantic-version-2.10.0\n"
     ]
    }
   ]
  },
  {
   "cell_type": "code",
   "source": [
    "# Speed comparison with pennylane\n",
    "\n",
    "import pennylane as qml\n",
    "from pennylane import numpy as np\n",
    "import random\n",
    "import time \n"
   ],
   "metadata": {
    "id": "iAsj8ImRQ2e4",
    "pycharm": {
     "name": "#%%\n"
    }
   },
   "execution_count": 12,
   "outputs": []
  },
  {
   "cell_type": "code",
   "source": [
    "n_wires = 10\n",
    "bsz = 32\n",
    "use_gpu=False"
   ],
   "metadata": {
    "id": "DCr7hQ_MROPU",
    "pycharm": {
     "name": "#%%\n"
    }
   },
   "execution_count": 18,
   "outputs": []
  },
  {
   "cell_type": "code",
   "source": [
    "dev=qml.device(\"default.qubit\",wires=n_wires)\n",
    "\n",
    "@qml.qnode(dev,interface=\"torch\")\n",
    "def pennylane_circ(params):\n",
    "    qml.Rot(params[0],params[1],params[2],wires=0)\n",
    "    qml.Rot(params[3],params[4],params[5],wires=1)\n",
    "    qml.ctrl(qml.Rot,control=0)(params[6],params[7],params[8],wires=1)\n",
    "    qml.Rot(params[9],params[10],params[11],wires=0)\n",
    "    qml.Rot(params[12],params[13],params[14],wires=1)  \n",
    "    qml.ctrl(qml.Rot,control=1)(params[15],params[16],params[17],wires=0)\n",
    "    return qml.state()\n",
    "\n",
    "\n",
    "\n",
    "if use_gpu:\n",
    "  device = torch.device('cuda')\n",
    "else:\n",
    "  device = torch.device('cpu')\n",
    "\n",
    "params=np.zeros(18)\n",
    "\n",
    "reps = 20\n",
    "start = time.time()\n",
    "for _ in range(reps):\n",
    "  for k in range(bsz):\n",
    "    pennylane_circ(params)\n",
    "\n",
    "end = time.time()\n",
    "pennylane_time = (end-start)/reps\n",
    "print(f\"Pennylane inference time: {pennylane_time}\")\n"
   ],
   "metadata": {
    "colab": {
     "base_uri": "https://localhost:8080/"
    },
    "id": "C0Vf_Kte29Xt",
    "outputId": "d989a826-c7cc-4860-dc8f-19a730135be7",
    "pycharm": {
     "name": "#%%\n"
    }
   },
   "execution_count": 19,
   "outputs": [
    {
     "output_type": "stream",
     "name": "stdout",
     "text": [
      "Pennylane inference time: 0.3734148144721985\n"
     ]
    }
   ]
  },
  {
   "cell_type": "code",
   "source": [
    "reps = 1000\n",
    "'''\n",
    "Circuit definition in torchquantum\n",
    "'''\n",
    "class QModel(tq.QuantumModule):\n",
    "    def __init__(self, bsz, n_wires):\n",
    "        super().__init__()\n",
    "        self.bsz = bsz\n",
    "        self.n_wires = n_wires\n",
    "        self.u3_0 = tq.U3(has_params=True, trainable=True)\n",
    "        self.u3_1 = tq.U3(has_params=True, trainable=True)\n",
    "        self.cu3_0 = tq.CU3(has_params=True, trainable=True)\n",
    "        self.cu3_1 = tq.CU3(has_params=True, trainable=True)\n",
    "        self.u3_2 = tq.U3(has_params=True, trainable=True)\n",
    "        self.u3_3 = tq.U3(has_params=True, trainable=True)\n",
    "        \n",
    "    def forward(self, q_device: tq.QuantumDevice):\n",
    "        q_device.reset_states(self.bsz)\n",
    "        self.u3_0(q_device, wires=0)\n",
    "        self.u3_1(q_device, wires=1)\n",
    "        self.cu3_0(q_device, wires=[0, 1])\n",
    "        self.u3_2(q_device, wires=0)\n",
    "        self.u3_3(q_device, wires=1)\n",
    "        self.cu3_1(q_device, wires=[1, 0])\n",
    "\n",
    "tq_circ = QModel(n_wires=n_wires, bsz=bsz).to(device)\n",
    "q_device = tq.QuantumDevice(n_wires=n_wires)\n",
    "\n",
    "\n",
    "start = time.time()\n",
    "for _ in range(reps):\n",
    "  tq_circ(q_device)\n",
    "\n",
    "end = time.time()\n",
    "tq_time = (end-start)/reps\n",
    "\n",
    "print(f\"TorchQuantum inference time {tq_time}; is {pennylane_time/tq_time} X faster\")"
   ],
   "metadata": {
    "colab": {
     "base_uri": "https://localhost:8080/"
    },
    "id": "-bH438r0Q5gV",
    "outputId": "00b1edc2-9dd9-4c65-e16e-e12ade91f6a6",
    "pycharm": {
     "name": "#%%\n"
    }
   },
   "execution_count": 20,
   "outputs": [
    {
     "output_type": "stream",
     "name": "stdout",
     "text": [
      "TorchQuantum inference time 0.004048892259597778; is 92.22641417218001 X faster\n"
     ]
    }
   ]
  },
  {
   "cell_type": "code",
   "source": [
    "# basic pulse\n",
    "pulse = tq.QuantumPulseDirect(n_steps=4,\n",
    "                                  hamil=[[0, 1], [1, 0]])\n",
    "pulse.get_unitary()\n"
   ],
   "metadata": {
    "colab": {
     "base_uri": "https://localhost:8080/"
    },
    "id": "pW7OxsW55K4G",
    "outputId": "cffffadd-cf6a-4e89-a037-a97ed8a90492",
    "pycharm": {
     "name": "#%%\n"
    }
   },
   "execution_count": 26,
   "outputs": [
    {
     "output_type": "execute_result",
     "data": {
      "text/plain": [
       "tensor([[-0.6536+0.0000j,  0.0000+0.7568j],\n",
       "        [ 0.0000+0.7568j, -0.6536+0.0000j]], grad_fn=<MmBackward0>)"
      ]
     },
     "metadata": {},
     "execution_count": 26
    }
   ]
  },
  {
   "cell_type": "code",
   "source": [
    "theta = 0.6 * np.pi\n",
    "target_unitary = torch.tensor([[np.cos(theta/2), -1j*np.sin(theta/2)], [-1j*np.sin(theta/2), np.cos(theta/2)]], dtype=torch.complex64)\n",
    "loss = 1 - (torch.trace(pulse.get_unitary() @ target_unitary) / target_unitary.shape[0]).abs() ** 2\n",
    "loss.backward()\n",
    "print(pulse.pulse_shape.grad)\n"
   ],
   "metadata": {
    "colab": {
     "base_uri": "https://localhost:8080/"
    },
    "id": "baPhKQj3_YZP",
    "outputId": "ee4fd4ce-9f61-48cb-d9c1-60056488f705",
    "pycharm": {
     "name": "#%%\n"
    }
   },
   "execution_count": 28,
   "outputs": [
    {
     "output_type": "stream",
     "name": "stdout",
     "text": [
      "tensor([-0.4441, -0.4441, -0.4441, -0.4441])\n"
     ]
    }
   ]
  },
  {
   "cell_type": "markdown",
   "source": [
    "## 1.3 TorchQuantum for state preparation circuit"
   ],
   "metadata": {
    "id": "ElNAsYJLj8J9",
    "pycharm": {
     "name": "#%% md\n"
    }
   }
  },
  {
   "cell_type": "code",
   "source": [
    "import torch\n",
    "import torch.optim as optim\n",
    "import argparse\n",
    "\n",
    "import torchquantum as tq\n",
    "from torch.optim.lr_scheduler import CosineAnnealingLR\n",
    "\n",
    "import random\n",
    "import numpy as np"
   ],
   "metadata": {
    "id": "8ngaSqT-iItk",
    "pycharm": {
     "name": "#%%\n"
    }
   },
   "execution_count": 7,
   "outputs": []
  },
  {
   "cell_type": "code",
   "source": [
    "\n",
    "class QModel(tq.QuantumModule):\n",
    "    def __init__(self):\n",
    "        super().__init__()\n",
    "        self.n_wires = 2\n",
    "        self.u3_0 = tq.U3(has_params=True, trainable=True)\n",
    "        self.u3_1 = tq.U3(has_params=True, trainable=True)\n",
    "        self.cu3_0 = tq.CU3(has_params=True, trainable=True)\n",
    "        self.cu3_1 = tq.CU3(has_params=True, trainable=True)\n",
    "        self.u3_2 = tq.U3(has_params=True, trainable=True)\n",
    "        self.u3_3 = tq.U3(has_params=True, trainable=True)\n",
    "\n",
    "    def forward(self, q_state: tq.QuantumState):\n",
    "        q_state.reset_states(1)\n",
    "        self.u3_0(q_state, wires=0)\n",
    "        self.u3_1(q_state, wires=1)\n",
    "        self.cu3_0(q_state, wires=[0, 1])\n",
    "        self.u3_2(q_state, wires=0)\n",
    "        self.u3_3(q_state, wires=1)\n",
    "        self.cu3_1(q_state, wires=[1, 0])\n",
    "\n",
    "def train(target_state, state, model, optimizer):\n",
    "    model(state)\n",
    "    result_state = state.get_states_1d()[0]\n",
    "\n",
    "    # compute the state infidelity\n",
    "    loss = 1 - torch.dot(result_state, target_state).abs() ** 2\n",
    "\n",
    "    optimizer.zero_grad()\n",
    "    loss.backward()\n",
    "    optimizer.step()\n",
    "    print(f\"infidelity (loss): {loss.item()}, \\n target state : \"\n",
    "          f\"{target_state.detach().cpu().numpy()}, \\n \"\n",
    "          f\"result state : {result_state.detach().cpu().numpy()}\\n\")"
   ],
   "metadata": {
    "id": "kJ64ckPTiZtM",
    "pycharm": {
     "name": "#%%\n"
    }
   },
   "execution_count": 8,
   "outputs": []
  },
  {
   "cell_type": "code",
   "source": [
    "def main(n_epochs=3000):\n",
    "    seed = 42\n",
    "    random.seed(seed)\n",
    "    np.random.seed(seed)\n",
    "    torch.manual_seed(seed)\n",
    "\n",
    "    use_cuda = torch.cuda.is_available()\n",
    "    device = torch.device(\"cuda\" if use_cuda else \"cpu\")\n",
    "\n",
    "    model = QModel().to(device)\n",
    "\n",
    "    optimizer = optim.Adam(model.parameters(), lr=1e-2, weight_decay=0)\n",
    "    scheduler = CosineAnnealingLR(optimizer, T_max=n_epochs)\n",
    "\n",
    "    q_device = tq.QuantumState(n_wires=2)\n",
    "    target_state = torch.tensor([0, 1, 0, 0], dtype=torch.complex64)\n",
    "\n",
    "    for epoch in range(1, n_epochs + 1):\n",
    "        print(f\"Epoch {epoch}, LR: {optimizer.param_groups[0]['lr']}\")\n",
    "        train(target_state, q_device, model, optimizer)\n",
    "        scheduler.step()"
   ],
   "metadata": {
    "id": "85BzTkY0io0o",
    "pycharm": {
     "name": "#%%\n"
    }
   },
   "execution_count": 35,
   "outputs": []
  },
  {
   "cell_type": "code",
   "source": [
    "main(n_epochs=3000)"
   ],
   "metadata": {
    "id": "NyMvW0pai_lO",
    "pycharm": {
     "name": "#%%\n"
    }
   },
   "execution_count": null,
   "outputs": []
  },
  {
   "cell_type": "markdown",
   "source": [
    "## 1.4 TorchQuantum for VQE circuit "
   ],
   "metadata": {
    "id": "6QeYK4OjA9qB",
    "pycharm": {
     "name": "#%% md\n"
    }
   }
  },
  {
   "cell_type": "code",
   "source": [
    "! wget https://www.dropbox.com/s/1rtttfxoo02s09e/h2_new.txt"
   ],
   "metadata": {
    "colab": {
     "base_uri": "https://localhost:8080/"
    },
    "id": "FkF4XlbcVg0G",
    "outputId": "5e702e7c-34d8-40a4-def5-980621b0262b",
    "pycharm": {
     "name": "#%%\n"
    }
   },
   "execution_count": 10,
   "outputs": [
    {
     "output_type": "stream",
     "name": "stdout",
     "text": [
      "--2022-09-19 15:25:09--  https://www.dropbox.com/s/1rtttfxoo02s09e/h2_new.txt\n",
      "Resolving www.dropbox.com (www.dropbox.com)... 162.125.65.18, 2620:100:6017:18::a27d:212\n",
      "Connecting to www.dropbox.com (www.dropbox.com)|162.125.65.18|:443... connected.\n",
      "HTTP request sent, awaiting response... 302 Found\n",
      "Location: /s/raw/1rtttfxoo02s09e/h2_new.txt [following]\n",
      "--2022-09-19 15:25:10--  https://www.dropbox.com/s/raw/1rtttfxoo02s09e/h2_new.txt\n",
      "Reusing existing connection to www.dropbox.com:443.\n",
      "HTTP request sent, awaiting response... 302 Found\n",
      "Location: https://ucfcd04121af2228bb42634017f1.dl.dropboxusercontent.com/cd/0/inline/BtNQ0j4Qw_P3NDqdfHMScfqMtF5UMizmFhmybBzezDMfQxVT-6XxJ8L4v68idx990zBZGgjFv_daTOhOCPhY7HqN47VGL7WU3mzIkkumskCkzELS-C8msPgRwrGbBLvst8KeznexC4Dk4dfyqQyM9YOjytB_H_HBaSmwsn9xn-VSGg/file# [following]\n",
      "--2022-09-19 15:25:10--  https://ucfcd04121af2228bb42634017f1.dl.dropboxusercontent.com/cd/0/inline/BtNQ0j4Qw_P3NDqdfHMScfqMtF5UMizmFhmybBzezDMfQxVT-6XxJ8L4v68idx990zBZGgjFv_daTOhOCPhY7HqN47VGL7WU3mzIkkumskCkzELS-C8msPgRwrGbBLvst8KeznexC4Dk4dfyqQyM9YOjytB_H_HBaSmwsn9xn-VSGg/file\n",
      "Resolving ucfcd04121af2228bb42634017f1.dl.dropboxusercontent.com (ucfcd04121af2228bb42634017f1.dl.dropboxusercontent.com)... 162.125.3.15, 2620:100:6017:15::a27d:20f\n",
      "Connecting to ucfcd04121af2228bb42634017f1.dl.dropboxusercontent.com (ucfcd04121af2228bb42634017f1.dl.dropboxusercontent.com)|162.125.3.15|:443... connected.\n",
      "HTTP request sent, awaiting response... 200 OK\n",
      "Length: 139 [text/plain]\n",
      "Saving to: ‘h2_new.txt’\n",
      "\n",
      "h2_new.txt          100%[===================>]     139  --.-KB/s    in 0s      \n",
      "\n",
      "2022-09-19 15:25:11 (26.7 MB/s) - ‘h2_new.txt’ saved [139/139]\n",
      "\n"
     ]
    }
   ]
  },
  {
   "cell_type": "code",
   "source": [
    "import torchquantum as tq\n",
    "import torch\n",
    "import torch.nn.functional as F\n",
    "from torchquantum.vqe_utils import parse_hamiltonian_file\n",
    "from torchquantum.datasets import VQE\n",
    "import random\n",
    "import numpy as np\n",
    "import argparse\n",
    "import torch.optim as optim\n",
    "\n",
    "from torch.optim.lr_scheduler import CosineAnnealingLR, ConstantLR\n",
    "\n"
   ],
   "metadata": {
    "id": "-plW3t-BBDKG",
    "pycharm": {
     "name": "#%%\n"
    }
   },
   "execution_count": 4,
   "outputs": []
  },
  {
   "cell_type": "code",
   "source": [
    "class QVQEModel(tq.QuantumModule):\n",
    "    def __init__(self, arch, hamil_info):\n",
    "        super().__init__()\n",
    "        self.arch = arch\n",
    "        self.hamil_info = hamil_info\n",
    "        self.n_wires = hamil_info['n_wires']\n",
    "        self.n_blocks = arch['n_blocks']\n",
    "        self.u3_layers = tq.QuantumModuleList()\n",
    "        self.cu3_layers = tq.QuantumModuleList()\n",
    "        for _ in range(self.n_blocks):\n",
    "            self.u3_layers.append(tq.Op1QAllLayer(op=tq.U3,\n",
    "                                                  n_wires=self.n_wires,\n",
    "                                                  has_params=True,\n",
    "                                                  trainable=True,\n",
    "                                                  ))\n",
    "            self.cu3_layers.append(tq.Op2QAllLayer(op=tq.CU3,\n",
    "                                                   n_wires=self.n_wires,\n",
    "                                                   has_params=True,\n",
    "                                                   trainable=True,\n",
    "                                                   circular=True\n",
    "                                                   ))\n",
    "        self.measure = tq.MeasureMultipleTimes(\n",
    "            obs_list=hamil_info['hamil_list'])\n",
    "\n",
    "    def forward(self, q_device):\n",
    "        q_device.reset_states(bsz=1)\n",
    "        for k in range(self.n_blocks):\n",
    "            self.u3_layers[k](q_device)\n",
    "            self.cu3_layers[k](q_device)\n",
    "        x = self.measure(q_device)\n",
    "\n",
    "        hamil_coefficients = torch.tensor([hamil['coefficient'] for hamil in\n",
    "                                           self.hamil_info['hamil_list']],\n",
    "                                          device=x.device).double()\n",
    "\n",
    "        for k, hamil in enumerate(self.hamil_info['hamil_list']):\n",
    "            for wire, observable in zip(hamil['wires'], hamil['observables']):\n",
    "                if observable == 'i':\n",
    "                    x[k][wire] = 1\n",
    "            for wire in range(q_device.n_wires):\n",
    "                if wire not in hamil['wires']:\n",
    "                    x[k][wire] = 1\n",
    "\n",
    "        x = torch.cumprod(x, dim=-1)[:, -1].double()\n",
    "        x = torch.dot(x, hamil_coefficients)\n",
    "\n",
    "        if x.dim() == 0:\n",
    "            x = x.unsqueeze(0)\n",
    "\n",
    "        return x\n",
    "\n",
    "\n",
    "def train(dataflow, q_device, model, device, optimizer):\n",
    "    for _ in dataflow['train']:\n",
    "        outputs = model(q_device)\n",
    "        loss = outputs.mean()\n",
    "\n",
    "        optimizer.zero_grad()\n",
    "        loss.backward()\n",
    "        optimizer.step()\n",
    "        print(f\"Expectation of energy: {loss.item()}\")\n",
    "\n",
    "\n",
    "def valid_test(dataflow, q_device, split, model, device):\n",
    "    with torch.no_grad():\n",
    "        for _ in dataflow[split]:\n",
    "            outputs = model(q_device)\n",
    "    loss = outputs.mean()\n",
    "\n",
    "    print(f\"Expectation of energy: {loss}\")\n"
   ],
   "metadata": {
    "id": "Psb0lOq3BSbQ",
    "pycharm": {
     "name": "#%%\n"
    }
   },
   "execution_count": 11,
   "outputs": []
  },
  {
   "cell_type": "code",
   "source": [
    "class Args(object):\n",
    "  def __init__(self):\n",
    "    pass\n",
    "\n",
    "def main():\n",
    "    # parser = argparse.ArgumentParser()\n",
    "    # parser.add_argument('--pdb', action='store_true', help='debug with pdb')\n",
    "    # parser.add_argument('--n_blocks', type=int, default=2,\n",
    "    #                     help='number of blocks, each contain one layer of '\n",
    "    #                          'U3 gates and one layer of CU3 with '\n",
    "    #                          'ring connections')\n",
    "    # parser.add_argument('--steps_per_epoch', type=int, default=10,\n",
    "    #                     help='number of training epochs')\n",
    "    # parser.add_argument('--epochs', type=int, default=100,\n",
    "    #                     help='number of training epochs')\n",
    "    # parser.add_argument('--hamil_filename', type=str, default='./h2_new.txt',\n",
    "    #                     help='number of training epochs')\n",
    "\n",
    "    args = Args()\n",
    "    args.n_blocks = 2\n",
    "    args.steps_per_epoch=100\n",
    "    args.epochs=100\n",
    "    args.hamil_filename = '/content/torchquantum/h2_new.txt'\n",
    "\n",
    "    # if args.pdb:\n",
    "    #     import pdb\n",
    "    #     pdb.set_trace()\n",
    "\n",
    "    seed = 0\n",
    "    random.seed(seed)\n",
    "    np.random.seed(seed)\n",
    "    torch.manual_seed(seed)\n",
    "\n",
    "    dataset = VQE(steps_per_epoch=args.steps_per_epoch)\n",
    "\n",
    "    dataflow = dict()\n",
    "\n",
    "    for split in dataset:\n",
    "        if split == 'train':\n",
    "            sampler = torch.utils.data.RandomSampler(dataset[split])\n",
    "        else:\n",
    "            sampler = torch.utils.data.SequentialSampler(dataset[split])\n",
    "        dataflow[split] = torch.utils.data.DataLoader(\n",
    "            dataset[split],\n",
    "            batch_size=1,\n",
    "            sampler=sampler,\n",
    "            num_workers=1,\n",
    "            pin_memory=True)\n",
    "\n",
    "    hamil_info = parse_hamiltonian_file(args.hamil_filename)\n",
    "\n",
    "    use_cuda = torch.cuda.is_available()\n",
    "    device = torch.device(\"cuda\" if use_cuda else \"cpu\")\n",
    "    model = QVQEModel(arch={\"n_blocks\": args.n_blocks},\n",
    "                       hamil_info=hamil_info)\n",
    "\n",
    "    model.to(device)\n",
    "\n",
    "    n_epochs = args.epochs\n",
    "    optimizer = optim.Adam(model.parameters(), lr=5e-3, weight_decay=1e-4)\n",
    "    scheduler = CosineAnnealingLR(optimizer, T_max=n_epochs)\n",
    "\n",
    "    q_device = tq.QuantumDevice(n_wires=hamil_info['n_wires'])\n",
    "    q_device.reset_states(bsz=1)\n",
    "\n",
    "    for epoch in range(1, n_epochs + 1):\n",
    "        # train\n",
    "        print(f\"Epoch {epoch}, LR: {optimizer.param_groups[0]['lr']}\")\n",
    "        train(dataflow, q_device, model, device, optimizer)\n",
    "\n",
    "        # valid\n",
    "        valid_test(dataflow, q_device, 'valid', model, device)\n",
    "        scheduler.step()\n",
    "\n",
    "    # final valid\n",
    "    valid_test(dataflow, q_device, 'valid', model, device)"
   ],
   "metadata": {
    "id": "UTTikHR1BZnV",
    "pycharm": {
     "name": "#%%\n"
    }
   },
   "execution_count": 14,
   "outputs": []
  },
  {
   "cell_type": "code",
   "source": [
    "main()"
   ],
   "metadata": {
    "colab": {
     "base_uri": "https://localhost:8080/",
     "height": 1000
    },
    "id": "TCEvpt3ECZhX",
    "outputId": "a9e0a50e-1b46-4995-88b7-a856b022c198",
    "pycharm": {
     "name": "#%%\n"
    }
   },
   "execution_count": 15,
   "outputs": [
    {
     "output_type": "stream",
     "name": "stdout",
     "text": [
      "Epoch 1, LR: 0.005\n",
      "Expectation of energy: -0.308297323072801\n",
      "Expectation of energy: -0.3150710661499416\n",
      "Expectation of energy: -0.3222581990990716\n",
      "Expectation of energy: -0.3298538992153188\n",
      "Expectation of energy: -0.3378549958850836\n",
      "Expectation of energy: -0.3462580818360128\n",
      "Expectation of energy: -0.35506080617605584\n",
      "Expectation of energy: -0.3642611309815864\n",
      "Expectation of energy: -0.37385944604789345\n",
      "Expectation of energy: -0.3838581631128637\n",
      "Expectation of energy: -0.39426284856410665\n",
      "Expectation of energy: -0.40508255287436734\n",
      "Expectation of energy: -0.41632968098560474\n",
      "Expectation of energy: -0.4280217907429371\n",
      "Expectation of energy: -0.4401789326278298\n",
      "Expectation of energy: -0.4528248988932262\n",
      "Expectation of energy: -0.4659814090349086\n",
      "Expectation of energy: -0.4796671753594215\n",
      "Expectation of energy: -0.49389354536284613\n",
      "Expectation of energy: -0.5086673454400741\n",
      "Expectation of energy: -0.5239896705033897\n",
      "Expectation of energy: -0.5398575345128833\n",
      "Expectation of energy: -0.5562654188755087\n",
      "Expectation of energy: -0.5732025354929666\n",
      "Expectation of energy: -0.5906582814303059\n",
      "Expectation of energy: -0.6086202753284728\n",
      "Expectation of energy: -0.6270759125807044\n",
      "Expectation of energy: -0.6460131499584596\n",
      "Expectation of energy: -0.6654197248861027\n",
      "Expectation of energy: -0.6852816790901917\n",
      "Expectation of energy: -0.7055832865251654\n",
      "Expectation of energy: -0.726304925766776\n",
      "Expectation of energy: -0.7474252975601621\n",
      "Expectation of energy: -0.7689180912762086\n",
      "Expectation of energy: -0.7907567045661701\n",
      "Expectation of energy: -0.8129120128083609\n",
      "Expectation of energy: -0.835353362605799\n",
      "Expectation of energy: -0.8580469167888662\n",
      "Expectation of energy: -0.880957539042001\n",
      "Expectation of energy: -0.904049305753527\n",
      "Expectation of energy: -0.9272828409789278\n",
      "Expectation of energy: -0.9506195169472338\n",
      "Expectation of energy: -0.9740194497956998\n",
      "Expectation of energy: -0.997441343767171\n",
      "Expectation of energy: -1.02084374128577\n",
      "Expectation of energy: -1.044184479376973\n",
      "Expectation of energy: -1.0674212651913764\n",
      "Expectation of energy: -1.0905136089809482\n",
      "Expectation of energy: -1.1134209261619075\n",
      "Expectation of energy: -1.1361055443887715\n",
      "Expectation of energy: -1.1585309511002313\n",
      "Expectation of energy: -1.180663069118116\n",
      "Expectation of energy: -1.2024708840223917\n",
      "Expectation of energy: -1.2239266828663689\n",
      "Expectation of energy: -1.2450046695668322\n",
      "Expectation of energy: -1.2656832661683326\n",
      "Expectation of energy: -1.2859423163229518\n",
      "Expectation of energy: -1.305764713513226\n",
      "Expectation of energy: -1.3251346780127407\n",
      "Expectation of energy: -1.3440385075139858\n",
      "Expectation of energy: -1.3624633073585322\n",
      "Expectation of energy: -1.3803982401215706\n",
      "Expectation of energy: -1.3978330414034656\n",
      "Expectation of energy: -1.4147587108826005\n",
      "Expectation of energy: -1.4311684817015302\n",
      "Expectation of energy: -1.4470565159801254\n",
      "Expectation of energy: -1.4624191672379407\n",
      "Expectation of energy: -1.4772557899128564\n",
      "Expectation of energy: -1.491566312061463\n",
      "Expectation of energy: -1.5053538021332036\n",
      "Expectation of energy: -1.518623216448085\n",
      "Expectation of energy: -1.5313816111045064\n",
      "Expectation of energy: -1.543637582764402\n",
      "Expectation of energy: -1.5554010688327917\n",
      "Expectation of energy: -1.566683542253599\n",
      "Expectation of energy: -1.577497960326701\n",
      "Expectation of energy: -1.58785648515607\n",
      "Expectation of energy: -1.5977735926623289\n",
      "Expectation of energy: -1.6072629639575209\n",
      "Expectation of energy: -1.6163387675503167\n",
      "Expectation of energy: -1.6250154649982833\n",
      "Expectation of energy: -1.6333083096243592\n",
      "Expectation of energy: -1.641231861539749\n",
      "Expectation of energy: -1.6488010623233564\n",
      "Expectation of energy: -1.6560317510167233\n",
      "Expectation of energy: -1.6629380850645679\n",
      "Expectation of energy: -1.6695359678676125\n",
      "Expectation of energy: -1.6758402260292533\n",
      "Expectation of energy: -1.6818649964748809\n",
      "Expectation of energy: -1.6876251155377096\n",
      "Expectation of energy: -1.6931347620651545\n",
      "Expectation of energy: -1.6984065362320644\n",
      "Expectation of energy: -1.7034537412957578\n",
      "Expectation of energy: -1.7082888786232986\n",
      "Expectation of energy: -1.712923466852262\n",
      "Expectation of energy: -1.7173688625873273\n",
      "Expectation of energy: -1.721636092546762\n",
      "Expectation of energy: -1.7257351333265731\n",
      "Expectation of energy: -1.7296762987476333\n",
      "Expectation of energy: -1.7334682116242563\n",
      "Expectation of energy: -1.7371199700047164\n",
      "Epoch 2, LR: 0.0049987664009143295\n",
      "Expectation of energy: -1.7371199700047164\n",
      "Expectation of energy: -1.7406386912828493\n",
      "Expectation of energy: -1.7440335320517497\n",
      "Expectation of energy: -1.7473111102056609\n",
      "Expectation of energy: -1.7504782222782216\n",
      "Expectation of energy: -1.7535412787390154\n",
      "Expectation of energy: -1.7565058968835403\n",
      "Expectation of energy: -1.759377074174433\n",
      "Expectation of energy: -1.7621601697925975\n",
      "Expectation of energy: -1.7648592241832979\n",
      "Expectation of energy: -1.767479029402394\n",
      "Expectation of energy: -1.7700228962512232\n",
      "Expectation of energy: -1.7724949221862025\n",
      "Expectation of energy: -1.7748978987552877\n",
      "Expectation of energy: -1.7772350746150434\n",
      "Expectation of energy: -1.7795094983733064\n",
      "Expectation of energy: -1.7817232498377027\n",
      "Expectation of energy: -1.7838785571014317\n",
      "Expectation of energy: -1.7859782904080883\n",
      "Expectation of energy: -1.7880235033033915\n",
      "Expectation of energy: -1.7900170050286142\n",
      "Expectation of energy: -1.7919597975826154\n",
      "Expectation of energy: -1.7938537272504917\n",
      "Expectation of energy: -1.7957003241548335\n",
      "Expectation of energy: -1.797500955558857\n",
      "Expectation of energy: -1.7992573516104649\n",
      "Expectation of energy: -1.8009698268775123\n",
      "Expectation of energy: -1.8026405103866445\n",
      "Expectation of energy: -1.804269877594594\n",
      "Expectation of energy: -1.8058594881338932\n",
      "Expectation of energy: -1.8074098600566129\n",
      "Expectation of energy: -1.8089226514277743\n",
      "Expectation of energy: -1.810398198739981\n",
      "Expectation of energy: -1.8118380108759542\n",
      "Expectation of energy: -1.8132425321819088\n",
      "Expectation of energy: -1.814613142876332\n",
      "Expectation of energy: -1.8159501233090745\n",
      "Expectation of energy: -1.8172551329175004\n",
      "Expectation of energy: -1.81852813868538\n",
      "Expectation of energy: -1.8197706051011815\n",
      "Expectation of energy: -1.8209829790204506\n",
      "Expectation of energy: -1.822166207271819\n",
      "Expectation of energy: -1.823321290024784\n",
      "Expectation of energy: -1.8244487293863783\n",
      "Expectation of energy: -1.825549328783198\n",
      "Expectation of energy: -1.826623644407344\n",
      "Expectation of energy: -1.827672846005034\n",
      "Expectation of energy: -1.8286970344156346\n",
      "Expectation of energy: -1.8296970745633039\n",
      "Expectation of energy: -1.8306736130123746\n",
      "Expectation of energy: -1.8316279059184533\n",
      "Expectation of energy: -1.8325600031308331\n",
      "Expectation of energy: -1.8334701107569\n",
      "Expectation of energy: -1.8343597108248098\n",
      "Expectation of energy: -1.835228860710742\n",
      "Expectation of energy: -1.8360780770628609\n",
      "Expectation of energy: -1.8369080639366242\n",
      "Expectation of energy: -1.8377194101268466\n",
      "Expectation of energy: -1.8385121571643477\n",
      "Expectation of energy: -1.839287746366928\n",
      "Expectation of energy: -1.8400452195649581\n",
      "Expectation of energy: -1.8407862108857265\n",
      "Expectation of energy: -1.8415108212650382\n",
      "Expectation of energy: -1.8422191268123873\n",
      "Expectation of energy: -1.842912218641005\n",
      "Expectation of energy: -1.843589837129386\n",
      "Expectation of energy: -1.8442525461550558\n",
      "Expectation of energy: -1.8449012251925572\n",
      "Expectation of energy: -1.8455352366198263\n",
      "Expectation of energy: -1.8461557895161853\n",
      "Expectation of energy: -1.8467627958509403\n",
      "Expectation of energy: -1.8473564416067503\n",
      "Expectation of energy: -1.8479375633844264\n",
      "Expectation of energy: -1.8485057965199916\n",
      "Expectation of energy: -1.8490621453479181\n",
      "Expectation of energy: -1.8496065068888792\n",
      "Expectation of energy: -1.8501391349165532\n",
      "Expectation of energy: -1.850660377615957\n",
      "Expectation of energy: -1.8511703488993607\n",
      "Expectation of energy: -1.8516692967983088\n",
      "Expectation of energy: -1.8521575221191722\n",
      "Expectation of energy: -1.852635510121204\n",
      "Expectation of energy: -1.8531035138774734\n",
      "Expectation of energy: -1.8535609310452\n",
      "Expectation of energy: -1.8540091911125138\n",
      "Expectation of energy: -1.854447580289549\n",
      "Expectation of energy: -1.8548766488154402\n",
      "Expectation of energy: -1.8552966706316276\n",
      "Expectation of energy: -1.8557072927267524\n",
      "Expectation of energy: -1.8561093597275444\n",
      "Expectation of energy: -1.8565031928483973\n",
      "Expectation of energy: -1.8568882184730278\n",
      "Expectation of energy: -1.8572652794722904\n",
      "Expectation of energy: -1.8576336223059016\n",
      "Expectation of energy: -1.857994803989237\n",
      "Expectation of energy: -1.8583482620165608\n",
      "Expectation of energy: -1.8586940939268743\n",
      "Expectation of energy: -1.8590323445415504\n",
      "Expectation of energy: -1.8593632780779858\n",
      "Expectation of energy: -1.8596873680752544\n",
      "Expectation of energy: -1.8600042583654561\n",
      "Epoch 3, LR: 0.00499506682107068\n",
      "Expectation of energy: -1.8600042583654561\n",
      "Expectation of energy: -1.8603142172677518\n",
      "Expectation of energy: -1.860617707234636\n",
      "Expectation of energy: -1.8609146078146557\n",
      "Expectation of energy: -1.8612047972227\n",
      "Expectation of energy: -1.861489111623201\n",
      "Expectation of energy: -1.8617669604698208\n",
      "Expectation of energy: -1.8620390353977796\n",
      "Expectation of energy: -1.8623051691146995\n",
      "Expectation of energy: -1.862565688347211\n",
      "Expectation of energy: -1.8628202542502552\n",
      "Expectation of energy: -1.8630695684233585\n",
      "Expectation of energy: -1.8633132516951922\n",
      "Expectation of energy: -1.8635518523975556\n",
      "Expectation of energy: -1.8637851993068324\n",
      "Expectation of energy: -1.8640135702935257\n",
      "Expectation of energy: -1.8642365658098885\n",
      "Expectation of energy: -1.8644549037971103\n",
      "Expectation of energy: -1.8646687229796104\n",
      "Expectation of energy: -1.864877684421353\n",
      "Expectation of energy: -1.8650817248095304\n",
      "Expectation of energy: -1.8652815026994112\n",
      "Expectation of energy: -1.8654769467233923\n",
      "Expectation of energy: -1.8656678268330742\n",
      "Expectation of energy: -1.8658546957856224\n",
      "Expectation of energy: -1.8660376180907576\n",
      "Expectation of energy: -1.866216213133451\n",
      "Expectation of energy: -1.866390751170692\n",
      "Expectation of energy: -1.8665617093688085\n",
      "Expectation of energy: -1.86672876160534\n",
      "Expectation of energy: -1.8668919349778421\n",
      "Expectation of energy: -1.8670513010336973\n",
      "Expectation of energy: -1.8672075259416876\n",
      "Expectation of energy: -1.8673598074301596\n",
      "Expectation of energy: -1.867508964918732\n",
      "Expectation of energy: -1.8676544929727523\n",
      "Expectation of energy: -1.8677965953155866\n",
      "Expectation of energy: -1.8679359598789396\n",
      "Expectation of energy: -1.8680717979680017\n",
      "Expectation of energy: -1.8682042940612478\n",
      "Expectation of energy: -1.8683345937557774\n",
      "Expectation of energy: -1.8684613316493213\n",
      "Expectation of energy: -1.8685852106391083\n",
      "Expectation of energy: -1.868706061337477\n",
      "Expectation of energy: -1.8688243485956573\n",
      "Expectation of energy: -1.8689398058035107\n",
      "Expectation of energy: -1.8690525834900675\n",
      "Expectation of energy: -1.8691624684803183\n",
      "Expectation of energy: -1.869270188715714\n",
      "Expectation of energy: -1.869375385808313\n",
      "Expectation of energy: -1.8694779908720567\n",
      "Expectation of energy: -1.8695781291362437\n",
      "Expectation of energy: -1.8696761419427235\n",
      "Expectation of energy: -1.8697714187081478\n",
      "Expectation of energy: -1.8698645602351573\n",
      "Expectation of energy: -1.8699556702287476\n",
      "Expectation of energy: -1.8700443964500817\n",
      "Expectation of energy: -1.8701308651455928\n",
      "Expectation of energy: -1.8702161275244586\n",
      "Expectation of energy: -1.870298457945267\n",
      "Expectation of energy: -1.8703787897589728\n",
      "Expectation of energy: -1.8704577178424848\n",
      "Expectation of energy: -1.8705343695584336\n",
      "Expectation of energy: -1.870609235947981\n",
      "Expectation of energy: -1.8706823050632249\n",
      "Expectation of energy: -1.8707531503177026\n",
      "Expectation of energy: -1.8708231370286865\n",
      "Expectation of energy: -1.870890831030976\n",
      "Expectation of energy: -1.8709570938094435\n",
      "Expectation of energy: -1.8710214026011474\n",
      "Expectation of energy: -1.8710843600539504\n"
     ]
    },
    {
     "output_type": "error",
     "ename": "KeyboardInterrupt",
     "evalue": "ignored",
     "traceback": [
      "\u001B[0;31m---------------------------------------------------------------------------\u001B[0m",
      "\u001B[0;31mKeyboardInterrupt\u001B[0m                         Traceback (most recent call last)",
      "\u001B[0;32m<ipython-input-15-263240bbee7e>\u001B[0m in \u001B[0;36m<module>\u001B[0;34m\u001B[0m\n\u001B[0;32m----> 1\u001B[0;31m \u001B[0mmain\u001B[0m\u001B[0;34m(\u001B[0m\u001B[0;34m)\u001B[0m\u001B[0;34m\u001B[0m\u001B[0;34m\u001B[0m\u001B[0m\n\u001B[0m",
      "\u001B[0;32m<ipython-input-14-ee35acbb01d2>\u001B[0m in \u001B[0;36mmain\u001B[0;34m()\u001B[0m\n\u001B[1;32m     67\u001B[0m         \u001B[0;31m# train\u001B[0m\u001B[0;34m\u001B[0m\u001B[0;34m\u001B[0m\u001B[0;34m\u001B[0m\u001B[0m\n\u001B[1;32m     68\u001B[0m         \u001B[0mprint\u001B[0m\u001B[0;34m(\u001B[0m\u001B[0;34mf\"Epoch {epoch}, LR: {optimizer.param_groups[0]['lr']}\"\u001B[0m\u001B[0;34m)\u001B[0m\u001B[0;34m\u001B[0m\u001B[0;34m\u001B[0m\u001B[0m\n\u001B[0;32m---> 69\u001B[0;31m         \u001B[0mtrain\u001B[0m\u001B[0;34m(\u001B[0m\u001B[0mdataflow\u001B[0m\u001B[0;34m,\u001B[0m \u001B[0mq_device\u001B[0m\u001B[0;34m,\u001B[0m \u001B[0mmodel\u001B[0m\u001B[0;34m,\u001B[0m \u001B[0mdevice\u001B[0m\u001B[0;34m,\u001B[0m \u001B[0moptimizer\u001B[0m\u001B[0;34m)\u001B[0m\u001B[0;34m\u001B[0m\u001B[0;34m\u001B[0m\u001B[0m\n\u001B[0m\u001B[1;32m     70\u001B[0m \u001B[0;34m\u001B[0m\u001B[0m\n\u001B[1;32m     71\u001B[0m         \u001B[0;31m# valid\u001B[0m\u001B[0;34m\u001B[0m\u001B[0;34m\u001B[0m\u001B[0;34m\u001B[0m\u001B[0m\n",
      "\u001B[0;32m<ipython-input-11-8bc26e701b2e>\u001B[0m in \u001B[0;36mtrain\u001B[0;34m(dataflow, q_device, model, device, optimizer)\u001B[0m\n\u001B[1;32m     57\u001B[0m \u001B[0;34m\u001B[0m\u001B[0m\n\u001B[1;32m     58\u001B[0m         \u001B[0moptimizer\u001B[0m\u001B[0;34m.\u001B[0m\u001B[0mzero_grad\u001B[0m\u001B[0;34m(\u001B[0m\u001B[0;34m)\u001B[0m\u001B[0;34m\u001B[0m\u001B[0;34m\u001B[0m\u001B[0m\n\u001B[0;32m---> 59\u001B[0;31m         \u001B[0mloss\u001B[0m\u001B[0;34m.\u001B[0m\u001B[0mbackward\u001B[0m\u001B[0;34m(\u001B[0m\u001B[0;34m)\u001B[0m\u001B[0;34m\u001B[0m\u001B[0;34m\u001B[0m\u001B[0m\n\u001B[0m\u001B[1;32m     60\u001B[0m         \u001B[0moptimizer\u001B[0m\u001B[0;34m.\u001B[0m\u001B[0mstep\u001B[0m\u001B[0;34m(\u001B[0m\u001B[0;34m)\u001B[0m\u001B[0;34m\u001B[0m\u001B[0;34m\u001B[0m\u001B[0m\n\u001B[1;32m     61\u001B[0m         \u001B[0mprint\u001B[0m\u001B[0;34m(\u001B[0m\u001B[0;34mf\"Expectation of energy: {loss.item()}\"\u001B[0m\u001B[0;34m)\u001B[0m\u001B[0;34m\u001B[0m\u001B[0;34m\u001B[0m\u001B[0m\n",
      "\u001B[0;32m/usr/local/lib/python3.7/dist-packages/torch/_tensor.py\u001B[0m in \u001B[0;36mbackward\u001B[0;34m(self, gradient, retain_graph, create_graph, inputs)\u001B[0m\n\u001B[1;32m    394\u001B[0m                 \u001B[0mcreate_graph\u001B[0m\u001B[0;34m=\u001B[0m\u001B[0mcreate_graph\u001B[0m\u001B[0;34m,\u001B[0m\u001B[0;34m\u001B[0m\u001B[0;34m\u001B[0m\u001B[0m\n\u001B[1;32m    395\u001B[0m                 inputs=inputs)\n\u001B[0;32m--> 396\u001B[0;31m         \u001B[0mtorch\u001B[0m\u001B[0;34m.\u001B[0m\u001B[0mautograd\u001B[0m\u001B[0;34m.\u001B[0m\u001B[0mbackward\u001B[0m\u001B[0;34m(\u001B[0m\u001B[0mself\u001B[0m\u001B[0;34m,\u001B[0m \u001B[0mgradient\u001B[0m\u001B[0;34m,\u001B[0m \u001B[0mretain_graph\u001B[0m\u001B[0;34m,\u001B[0m \u001B[0mcreate_graph\u001B[0m\u001B[0;34m,\u001B[0m \u001B[0minputs\u001B[0m\u001B[0;34m=\u001B[0m\u001B[0minputs\u001B[0m\u001B[0;34m)\u001B[0m\u001B[0;34m\u001B[0m\u001B[0;34m\u001B[0m\u001B[0m\n\u001B[0m\u001B[1;32m    397\u001B[0m \u001B[0;34m\u001B[0m\u001B[0m\n\u001B[1;32m    398\u001B[0m     \u001B[0;32mdef\u001B[0m \u001B[0mregister_hook\u001B[0m\u001B[0;34m(\u001B[0m\u001B[0mself\u001B[0m\u001B[0;34m,\u001B[0m \u001B[0mhook\u001B[0m\u001B[0;34m)\u001B[0m\u001B[0;34m:\u001B[0m\u001B[0;34m\u001B[0m\u001B[0;34m\u001B[0m\u001B[0m\n",
      "\u001B[0;32m/usr/local/lib/python3.7/dist-packages/torch/autograd/__init__.py\u001B[0m in \u001B[0;36mbackward\u001B[0;34m(tensors, grad_tensors, retain_graph, create_graph, grad_variables, inputs)\u001B[0m\n\u001B[1;32m    173\u001B[0m     Variable._execution_engine.run_backward(  # Calls into the C++ engine to run the backward pass\n\u001B[1;32m    174\u001B[0m         \u001B[0mtensors\u001B[0m\u001B[0;34m,\u001B[0m \u001B[0mgrad_tensors_\u001B[0m\u001B[0;34m,\u001B[0m \u001B[0mretain_graph\u001B[0m\u001B[0;34m,\u001B[0m \u001B[0mcreate_graph\u001B[0m\u001B[0;34m,\u001B[0m \u001B[0minputs\u001B[0m\u001B[0;34m,\u001B[0m\u001B[0;34m\u001B[0m\u001B[0;34m\u001B[0m\u001B[0m\n\u001B[0;32m--> 175\u001B[0;31m         allow_unreachable=True, accumulate_grad=True)  # Calls into the C++ engine to run the backward pass\n\u001B[0m\u001B[1;32m    176\u001B[0m \u001B[0;34m\u001B[0m\u001B[0m\n\u001B[1;32m    177\u001B[0m def grad(\n",
      "\u001B[0;31mKeyboardInterrupt\u001B[0m: "
     ]
    }
   ]
  },
  {
   "cell_type": "markdown",
   "source": [
    "## 1.5 TorchQuantum for QNN circuit"
   ],
   "metadata": {
    "id": "4k_7FrcQBCtl",
    "pycharm": {
     "name": "#%% md\n"
    }
   }
  },
  {
   "cell_type": "code",
   "source": [
    "import torch\n",
    "import torch.nn.functional as F\n",
    "import torch.optim as optim\n",
    "import argparse\n",
    "\n",
    "import torchquantum as tq\n",
    "import torchquantum.functional as tqf\n",
    "\n",
    "from torchquantum.plugin import (tq2qiskit_expand_params,\n",
    "                                  tq2qiskit,\n",
    "                                  tq2qiskit_measurement,\n",
    "                                  qiskit_assemble_circs)\n",
    "\n",
    "from torchquantum.datasets import MNIST\n",
    "from torch.optim.lr_scheduler import CosineAnnealingLR\n",
    "\n",
    "import random\n",
    "import numpy as np"
   ],
   "metadata": {
    "id": "n1U42zhEA6w3",
    "pycharm": {
     "name": "#%%\n"
    }
   },
   "execution_count": 47,
   "outputs": []
  },
  {
   "cell_type": "code",
   "source": [
    "class QFCModel(tq.QuantumModule):\n",
    "    class QLayer(tq.QuantumModule):\n",
    "        def __init__(self):\n",
    "            super().__init__()\n",
    "            self.n_wires = 4\n",
    "            self.random_layer = tq.RandomLayer(n_ops=50,\n",
    "                                               wires=list(range(self.n_wires)))\n",
    "\n",
    "            # gates with trainable parameters\n",
    "            self.rx0 = tq.RX(has_params=True, trainable=True)\n",
    "            self.ry0 = tq.RY(has_params=True, trainable=True)\n",
    "            self.rz0 = tq.RZ(has_params=True, trainable=True)\n",
    "            self.crx0 = tq.CRX(has_params=True, trainable=True)\n",
    "\n",
    "        @tq.static_support\n",
    "        def forward(self, q_device: tq.QuantumDevice):\n",
    "            \"\"\"\n",
    "            1. To convert tq QuantumModule to qiskit or run in the static\n",
    "            model, need to:\n",
    "                (1) add @tq.static_support before the forward\n",
    "                (2) make sure to add\n",
    "                    static=self.static_mode and\n",
    "                    parent_graph=self.graph\n",
    "                    to all the tqf functions, such as tqf.hadamard below\n",
    "            \"\"\"\n",
    "            self.q_device = q_device\n",
    "\n",
    "            self.random_layer(self.q_device)\n",
    "\n",
    "            # some trainable gates (instantiated ahead of time)\n",
    "            self.rx0(self.q_device, wires=0)\n",
    "            self.ry0(self.q_device, wires=1)\n",
    "            self.rz0(self.q_device, wires=3)\n",
    "            self.crx0(self.q_device, wires=[0, 2])\n",
    "\n",
    "            # add some more non-parameterized gates (add on-the-fly)\n",
    "            tqf.hadamard(self.q_device, wires=3, static=self.static_mode,\n",
    "                         parent_graph=self.graph)\n",
    "            tqf.sx(self.q_device, wires=2, static=self.static_mode,\n",
    "                   parent_graph=self.graph)\n",
    "            tqf.cnot(self.q_device, wires=[3, 0], static=self.static_mode,\n",
    "                     parent_graph=self.graph)\n",
    "            tqf.rx(self.q_device, wires=1, params=torch.tensor([0.1]),\n",
    "                   static=self.static_mode, parent_graph=self.graph)\n",
    "\n",
    "    def __init__(self):\n",
    "        super().__init__()\n",
    "        self.n_wires = 4\n",
    "        self.q_device = tq.QuantumDevice(n_wires=self.n_wires)\n",
    "        self.encoder = tq.GeneralEncoder(\n",
    "            tq.encoder_op_list_name_dict['4x4_ryzxy'])\n",
    "\n",
    "        self.q_layer = self.QLayer()\n",
    "        self.measure = tq.MeasureAll(tq.PauliZ)\n",
    "\n",
    "    def forward(self, x, use_qiskit=False):\n",
    "        bsz = x.shape[0]\n",
    "        x = F.avg_pool2d(x, 6).view(bsz, 16)\n",
    "        devi = x.device\n",
    "\n",
    "        if use_qiskit:\n",
    "            encoder_circs = tq2qiskit_expand_params(self.q_device, x,\n",
    "                                                    self.encoder.func_list)\n",
    "            q_layer_circ = tq2qiskit(self.q_device, self.q_layer)\n",
    "            measurement_circ = tq2qiskit_measurement(self.q_device,\n",
    "                                                     self.measure)\n",
    "            assembled_circs = qiskit_assemble_circs(encoder_circs,\n",
    "                                                    q_layer_circ,\n",
    "                                                    measurement_circ)\n",
    "            x0 = self.qiskit_processor.process_ready_circs(\n",
    "                self.q_device, assembled_circs).to(devi)\n",
    "            # x1 = self.qiskit_processor.process_parameterized(\n",
    "            #     self.q_device, self.encoder, self.q_layer, self.measure, x)\n",
    "            # print((x0-x1).max())\n",
    "            x = x0\n",
    "\n",
    "        else:\n",
    "            self.encoder(self.q_device, x)\n",
    "            self.q_layer(self.q_device)\n",
    "            x = self.measure(self.q_device)\n",
    "\n",
    "        x = x.reshape(bsz, 2, 2).sum(-1).squeeze()\n",
    "        x = F.log_softmax(x, dim=1)\n",
    "\n",
    "        return x\n",
    "\n",
    "\n",
    "def train(dataflow, model, device, optimizer):\n",
    "    for feed_dict in dataflow['train']:\n",
    "        inputs = feed_dict['image'].to(device)\n",
    "        targets = feed_dict['digit'].to(device)\n",
    "\n",
    "        outputs = model(inputs)\n",
    "        loss = F.nll_loss(outputs, targets)\n",
    "        optimizer.zero_grad()\n",
    "        loss.backward()\n",
    "        optimizer.step()\n",
    "        print(f\"loss: {loss.item()}\", end='\\r')\n",
    "\n",
    "\n",
    "def valid_test(dataflow, split, model, device, qiskit=False):\n",
    "    target_all = []\n",
    "    output_all = []\n",
    "    with torch.no_grad():\n",
    "        for feed_dict in dataflow[split]:\n",
    "            inputs = feed_dict['image'].to(device)\n",
    "            targets = feed_dict['digit'].to(device)\n",
    "\n",
    "            outputs = model(inputs, use_qiskit=qiskit)\n",
    "\n",
    "            target_all.append(targets)\n",
    "            output_all.append(outputs)\n",
    "        target_all = torch.cat(target_all, dim=0)\n",
    "        output_all = torch.cat(output_all, dim=0)\n",
    "\n",
    "    _, indices = output_all.topk(1, dim=1)\n",
    "    masks = indices.eq(target_all.view(-1, 1).expand_as(indices))\n",
    "    size = target_all.shape[0]\n",
    "    corrects = masks.sum().item()\n",
    "    accuracy = corrects / size\n",
    "    loss = F.nll_loss(output_all, target_all).item()\n",
    "\n",
    "    print(f\"{split} set accuracy: {accuracy}\")\n",
    "    print(f\"{split} set loss: {loss}\")\n"
   ],
   "metadata": {
    "id": "srvo_I_sDWv5",
    "pycharm": {
     "name": "#%%\n"
    }
   },
   "execution_count": 49,
   "outputs": []
  },
  {
   "cell_type": "code",
   "source": [
    "\n",
    "def main():\n",
    "    # parser = argparse.ArgumentParser()\n",
    "    # parser.add_argument('--static', action='store_true', help='compute with '\n",
    "    #                                                           'static mode')\n",
    "    # parser.add_argument('--pdb', action='store_true', help='debug with pdb')\n",
    "    # parser.add_argument('--wires-per-block', type=int, default=2,\n",
    "    #                     help='wires per block int static mode')\n",
    "    # parser.add_argument('--epochs', type=int, default=5,\n",
    "    #                     help='number of training epochs')\n",
    "\n",
    "    # args = parser.parse_args()\n",
    "\n",
    "    # if args.pdb:\n",
    "        # import pdb\n",
    "        # pdb.set_trace()\n",
    "\n",
    "    n_epochs = 5\n",
    "    seed = 0\n",
    "    random.seed(seed)\n",
    "    np.random.seed(seed)\n",
    "    torch.manual_seed(seed)\n",
    "\n",
    "    dataset = MNIST(\n",
    "        root='./mnist_data',\n",
    "        train_valid_split_ratio=[0.9, 0.1],\n",
    "        digits_of_interest=[3, 6],\n",
    "        n_test_samples=75,\n",
    "    )\n",
    "    dataflow = dict()\n",
    "\n",
    "    for split in dataset:\n",
    "        sampler = torch.utils.data.RandomSampler(dataset[split])\n",
    "        dataflow[split] = torch.utils.data.DataLoader(\n",
    "            dataset[split],\n",
    "            batch_size=256,\n",
    "            sampler=sampler,\n",
    "            num_workers=8,\n",
    "            pin_memory=True)\n",
    "\n",
    "    use_cuda = torch.cuda.is_available()\n",
    "    device = torch.device(\"cuda\" if use_cuda else \"cpu\")\n",
    "\n",
    "    model = QFCModel().to(device)\n",
    "\n",
    "    optimizer = optim.Adam(model.parameters(), lr=5e-3, weight_decay=1e-4)\n",
    "    scheduler = CosineAnnealingLR(optimizer, T_max=n_epochs)\n",
    "\n",
    "    for epoch in range(1, n_epochs + 1):\n",
    "        # train\n",
    "        print(f\"Epoch {epoch}:\")\n",
    "        train(dataflow, model, device, optimizer)\n",
    "        print(optimizer.param_groups[0]['lr'])\n",
    "\n",
    "        # valid\n",
    "        valid_test(dataflow, 'valid', model, device)\n",
    "        scheduler.step()\n",
    "\n",
    "    # test\n",
    "    valid_test(dataflow, 'test', model, device, qiskit=False)\n",
    "\n",
    "    # run on Qiskit simulator and real Quantum Computers\n",
    "    try:\n",
    "        from qiskit import IBMQ\n",
    "        from torchquantum.plugin import QiskitProcessor\n",
    "\n",
    "        # firstly perform simulate\n",
    "        print(f\"\\nTest with Qiskit Simulator\")\n",
    "        processor_simulation = QiskitProcessor(use_real_qc=False)\n",
    "        model.set_qiskit_processor(processor_simulation)\n",
    "        valid_test(dataflow, 'test', model, device, qiskit=True)\n",
    "\n",
    "        # then try to run on REAL QC\n",
    "        backend_name = 'ibmq_lima'\n",
    "        print(f\"\\nTest on Real Quantum Computer {backend_name}\")\n",
    "        # Please specify your own hub group and project if you have the\n",
    "        # IBMQ premium plan to access more machines.\n",
    "        processor_real_qc = QiskitProcessor(use_real_qc=True,\n",
    "                                            backend_name=backend_name,\n",
    "                                            hub='ibm-q',\n",
    "                                            group='open',\n",
    "                                            project='main',\n",
    "                                            )\n",
    "        model.set_qiskit_processor(processor_real_qc)\n",
    "        valid_test(dataflow, 'test', model, device, qiskit=True)\n",
    "    except ImportError:\n",
    "        print(\"Please install qiskit, create an IBM Q Experience Account and \"\n",
    "              \"save the account token according to the instruction at \"\n",
    "              \"'https://github.com/Qiskit/qiskit-ibmq-provider', \"\n",
    "              \"then try again.\")"
   ],
   "metadata": {
    "id": "oBmCC02LDl25",
    "pycharm": {
     "name": "#%%\n"
    }
   },
   "execution_count": 52,
   "outputs": []
  },
  {
   "cell_type": "code",
   "source": [
    "main()"
   ],
   "metadata": {
    "colab": {
     "base_uri": "https://localhost:8080/",
     "height": 416
    },
    "id": "-MLaB9HTEkG_",
    "outputId": "3358a3f8-ce09-4ce1-cff6-2064f992f99b",
    "pycharm": {
     "name": "#%%\n"
    }
   },
   "execution_count": 53,
   "outputs": [
    {
     "output_type": "stream",
     "name": "stderr",
     "text": [
      "[2022-09-18 05:29:24.683] Only use the front 75 images as TEST set.\n"
     ]
    },
    {
     "output_type": "stream",
     "name": "stdout",
     "text": [
      "Epoch 1:\n",
      "0.005\n",
      "valid set accuracy: 0.700414937759336\n",
      "valid set loss: 0.6310521364212036\n",
      "Epoch 2:\n"
     ]
    },
    {
     "output_type": "error",
     "ename": "KeyboardInterrupt",
     "evalue": "ignored",
     "traceback": [
      "\u001B[0;31m---------------------------------------------------------------------------\u001B[0m",
      "\u001B[0;31mKeyboardInterrupt\u001B[0m                         Traceback (most recent call last)",
      "\u001B[0;32m<ipython-input-53-263240bbee7e>\u001B[0m in \u001B[0;36m<module>\u001B[0;34m\u001B[0m\n\u001B[0;32m----> 1\u001B[0;31m \u001B[0mmain\u001B[0m\u001B[0;34m(\u001B[0m\u001B[0;34m)\u001B[0m\u001B[0;34m\u001B[0m\u001B[0;34m\u001B[0m\u001B[0m\n\u001B[0m",
      "\u001B[0;32m<ipython-input-52-c815ef425ce3>\u001B[0m in \u001B[0;36mmain\u001B[0;34m()\u001B[0m\n\u001B[1;32m     49\u001B[0m         \u001B[0;31m# train\u001B[0m\u001B[0;34m\u001B[0m\u001B[0;34m\u001B[0m\u001B[0;34m\u001B[0m\u001B[0m\n\u001B[1;32m     50\u001B[0m         \u001B[0mprint\u001B[0m\u001B[0;34m(\u001B[0m\u001B[0;34mf\"Epoch {epoch}:\"\u001B[0m\u001B[0;34m)\u001B[0m\u001B[0;34m\u001B[0m\u001B[0;34m\u001B[0m\u001B[0m\n\u001B[0;32m---> 51\u001B[0;31m         \u001B[0mtrain\u001B[0m\u001B[0;34m(\u001B[0m\u001B[0mdataflow\u001B[0m\u001B[0;34m,\u001B[0m \u001B[0mmodel\u001B[0m\u001B[0;34m,\u001B[0m \u001B[0mdevice\u001B[0m\u001B[0;34m,\u001B[0m \u001B[0moptimizer\u001B[0m\u001B[0;34m)\u001B[0m\u001B[0;34m\u001B[0m\u001B[0;34m\u001B[0m\u001B[0m\n\u001B[0m\u001B[1;32m     52\u001B[0m         \u001B[0mprint\u001B[0m\u001B[0;34m(\u001B[0m\u001B[0moptimizer\u001B[0m\u001B[0;34m.\u001B[0m\u001B[0mparam_groups\u001B[0m\u001B[0;34m[\u001B[0m\u001B[0;36m0\u001B[0m\u001B[0;34m]\u001B[0m\u001B[0;34m[\u001B[0m\u001B[0;34m'lr'\u001B[0m\u001B[0;34m]\u001B[0m\u001B[0;34m)\u001B[0m\u001B[0;34m\u001B[0m\u001B[0;34m\u001B[0m\u001B[0m\n\u001B[1;32m     53\u001B[0m \u001B[0;34m\u001B[0m\u001B[0m\n",
      "\u001B[0;32m<ipython-input-49-7f3a43b36b13>\u001B[0m in \u001B[0;36mtrain\u001B[0;34m(dataflow, model, device, optimizer)\u001B[0m\n\u001B[1;32m     91\u001B[0m         \u001B[0mtargets\u001B[0m \u001B[0;34m=\u001B[0m \u001B[0mfeed_dict\u001B[0m\u001B[0;34m[\u001B[0m\u001B[0;34m'digit'\u001B[0m\u001B[0;34m]\u001B[0m\u001B[0;34m.\u001B[0m\u001B[0mto\u001B[0m\u001B[0;34m(\u001B[0m\u001B[0mdevice\u001B[0m\u001B[0;34m)\u001B[0m\u001B[0;34m\u001B[0m\u001B[0;34m\u001B[0m\u001B[0m\n\u001B[1;32m     92\u001B[0m \u001B[0;34m\u001B[0m\u001B[0m\n\u001B[0;32m---> 93\u001B[0;31m         \u001B[0moutputs\u001B[0m \u001B[0;34m=\u001B[0m \u001B[0mmodel\u001B[0m\u001B[0;34m(\u001B[0m\u001B[0minputs\u001B[0m\u001B[0;34m)\u001B[0m\u001B[0;34m\u001B[0m\u001B[0;34m\u001B[0m\u001B[0m\n\u001B[0m\u001B[1;32m     94\u001B[0m         \u001B[0mloss\u001B[0m \u001B[0;34m=\u001B[0m \u001B[0mF\u001B[0m\u001B[0;34m.\u001B[0m\u001B[0mnll_loss\u001B[0m\u001B[0;34m(\u001B[0m\u001B[0moutputs\u001B[0m\u001B[0;34m,\u001B[0m \u001B[0mtargets\u001B[0m\u001B[0;34m)\u001B[0m\u001B[0;34m\u001B[0m\u001B[0;34m\u001B[0m\u001B[0m\n\u001B[1;32m     95\u001B[0m         \u001B[0moptimizer\u001B[0m\u001B[0;34m.\u001B[0m\u001B[0mzero_grad\u001B[0m\u001B[0;34m(\u001B[0m\u001B[0;34m)\u001B[0m\u001B[0;34m\u001B[0m\u001B[0;34m\u001B[0m\u001B[0m\n",
      "\u001B[0;32m/usr/local/lib/python3.7/dist-packages/torch/nn/modules/module.py\u001B[0m in \u001B[0;36m_call_impl\u001B[0;34m(self, *input, **kwargs)\u001B[0m\n\u001B[1;32m   1128\u001B[0m         if not (self._backward_hooks or self._forward_hooks or self._forward_pre_hooks or _global_backward_hooks\n\u001B[1;32m   1129\u001B[0m                 or _global_forward_hooks or _global_forward_pre_hooks):\n\u001B[0;32m-> 1130\u001B[0;31m             \u001B[0;32mreturn\u001B[0m \u001B[0mforward_call\u001B[0m\u001B[0;34m(\u001B[0m\u001B[0;34m*\u001B[0m\u001B[0minput\u001B[0m\u001B[0;34m,\u001B[0m \u001B[0;34m**\u001B[0m\u001B[0mkwargs\u001B[0m\u001B[0;34m)\u001B[0m\u001B[0;34m\u001B[0m\u001B[0;34m\u001B[0m\u001B[0m\n\u001B[0m\u001B[1;32m   1131\u001B[0m         \u001B[0;31m# Do not call functions when jit is used\u001B[0m\u001B[0;34m\u001B[0m\u001B[0;34m\u001B[0m\u001B[0;34m\u001B[0m\u001B[0m\n\u001B[1;32m   1132\u001B[0m         \u001B[0mfull_backward_hooks\u001B[0m\u001B[0;34m,\u001B[0m \u001B[0mnon_full_backward_hooks\u001B[0m \u001B[0;34m=\u001B[0m \u001B[0;34m[\u001B[0m\u001B[0;34m]\u001B[0m\u001B[0;34m,\u001B[0m \u001B[0;34m[\u001B[0m\u001B[0;34m]\u001B[0m\u001B[0;34m\u001B[0m\u001B[0;34m\u001B[0m\u001B[0m\n",
      "\u001B[0;32m<ipython-input-49-7f3a43b36b13>\u001B[0m in \u001B[0;36mforward\u001B[0;34m(self, x, use_qiskit)\u001B[0m\n\u001B[1;32m     76\u001B[0m \u001B[0;34m\u001B[0m\u001B[0m\n\u001B[1;32m     77\u001B[0m         \u001B[0;32melse\u001B[0m\u001B[0;34m:\u001B[0m\u001B[0;34m\u001B[0m\u001B[0;34m\u001B[0m\u001B[0m\n\u001B[0;32m---> 78\u001B[0;31m             \u001B[0mself\u001B[0m\u001B[0;34m.\u001B[0m\u001B[0mencoder\u001B[0m\u001B[0;34m(\u001B[0m\u001B[0mself\u001B[0m\u001B[0;34m.\u001B[0m\u001B[0mq_device\u001B[0m\u001B[0;34m,\u001B[0m \u001B[0mx\u001B[0m\u001B[0;34m)\u001B[0m\u001B[0;34m\u001B[0m\u001B[0;34m\u001B[0m\u001B[0m\n\u001B[0m\u001B[1;32m     79\u001B[0m             \u001B[0mself\u001B[0m\u001B[0;34m.\u001B[0m\u001B[0mq_layer\u001B[0m\u001B[0;34m(\u001B[0m\u001B[0mself\u001B[0m\u001B[0;34m.\u001B[0m\u001B[0mq_device\u001B[0m\u001B[0;34m)\u001B[0m\u001B[0;34m\u001B[0m\u001B[0;34m\u001B[0m\u001B[0m\n\u001B[1;32m     80\u001B[0m             \u001B[0mx\u001B[0m \u001B[0;34m=\u001B[0m \u001B[0mself\u001B[0m\u001B[0;34m.\u001B[0m\u001B[0mmeasure\u001B[0m\u001B[0;34m(\u001B[0m\u001B[0mself\u001B[0m\u001B[0;34m.\u001B[0m\u001B[0mq_device\u001B[0m\u001B[0;34m)\u001B[0m\u001B[0;34m\u001B[0m\u001B[0;34m\u001B[0m\u001B[0m\n",
      "\u001B[0;32m/usr/local/lib/python3.7/dist-packages/torch/nn/modules/module.py\u001B[0m in \u001B[0;36m_call_impl\u001B[0;34m(self, *input, **kwargs)\u001B[0m\n\u001B[1;32m   1128\u001B[0m         if not (self._backward_hooks or self._forward_hooks or self._forward_pre_hooks or _global_backward_hooks\n\u001B[1;32m   1129\u001B[0m                 or _global_forward_hooks or _global_forward_pre_hooks):\n\u001B[0;32m-> 1130\u001B[0;31m             \u001B[0;32mreturn\u001B[0m \u001B[0mforward_call\u001B[0m\u001B[0;34m(\u001B[0m\u001B[0;34m*\u001B[0m\u001B[0minput\u001B[0m\u001B[0;34m,\u001B[0m \u001B[0;34m**\u001B[0m\u001B[0mkwargs\u001B[0m\u001B[0;34m)\u001B[0m\u001B[0;34m\u001B[0m\u001B[0;34m\u001B[0m\u001B[0m\n\u001B[0m\u001B[1;32m   1131\u001B[0m         \u001B[0;31m# Do not call functions when jit is used\u001B[0m\u001B[0;34m\u001B[0m\u001B[0;34m\u001B[0m\u001B[0;34m\u001B[0m\u001B[0m\n\u001B[1;32m   1132\u001B[0m         \u001B[0mfull_backward_hooks\u001B[0m\u001B[0;34m,\u001B[0m \u001B[0mnon_full_backward_hooks\u001B[0m \u001B[0;34m=\u001B[0m \u001B[0;34m[\u001B[0m\u001B[0;34m]\u001B[0m\u001B[0;34m,\u001B[0m \u001B[0;34m[\u001B[0m\u001B[0;34m]\u001B[0m\u001B[0;34m\u001B[0m\u001B[0;34m\u001B[0m\u001B[0m\n",
      "\u001B[0;32m/content/torchquantum/torchquantum/graph.py\u001B[0m in \u001B[0;36mforward_register_graph\u001B[0;34m(*args, **kwargs)\u001B[0m\n\u001B[1;32m     23\u001B[0m         \u001B[0;32mif\u001B[0m \u001B[0margs\u001B[0m\u001B[0;34m[\u001B[0m\u001B[0;36m0\u001B[0m\u001B[0;34m]\u001B[0m\u001B[0;34m.\u001B[0m\u001B[0mstatic_mode\u001B[0m \u001B[0;32mand\u001B[0m \u001B[0margs\u001B[0m\u001B[0;34m[\u001B[0m\u001B[0;36m0\u001B[0m\u001B[0;34m]\u001B[0m\u001B[0;34m.\u001B[0m\u001B[0mparent_graph\u001B[0m \u001B[0;32mis\u001B[0m \u001B[0;32mnot\u001B[0m \u001B[0;32mNone\u001B[0m\u001B[0;34m:\u001B[0m\u001B[0;34m\u001B[0m\u001B[0;34m\u001B[0m\u001B[0m\n\u001B[1;32m     24\u001B[0m             \u001B[0margs\u001B[0m\u001B[0;34m[\u001B[0m\u001B[0;36m0\u001B[0m\u001B[0;34m]\u001B[0m\u001B[0;34m.\u001B[0m\u001B[0mparent_graph\u001B[0m\u001B[0;34m.\u001B[0m\u001B[0madd_op\u001B[0m\u001B[0;34m(\u001B[0m\u001B[0margs\u001B[0m\u001B[0;34m[\u001B[0m\u001B[0;36m0\u001B[0m\u001B[0;34m]\u001B[0m\u001B[0;34m)\u001B[0m\u001B[0;34m\u001B[0m\u001B[0;34m\u001B[0m\u001B[0m\n\u001B[0;32m---> 25\u001B[0;31m         \u001B[0mres\u001B[0m \u001B[0;34m=\u001B[0m \u001B[0mf\u001B[0m\u001B[0;34m(\u001B[0m\u001B[0;34m*\u001B[0m\u001B[0margs\u001B[0m\u001B[0;34m,\u001B[0m \u001B[0;34m**\u001B[0m\u001B[0mkwargs\u001B[0m\u001B[0;34m)\u001B[0m\u001B[0;34m\u001B[0m\u001B[0;34m\u001B[0m\u001B[0m\n\u001B[0m\u001B[1;32m     26\u001B[0m         \u001B[0;32mif\u001B[0m \u001B[0margs\u001B[0m\u001B[0;34m[\u001B[0m\u001B[0;36m0\u001B[0m\u001B[0;34m]\u001B[0m\u001B[0;34m.\u001B[0m\u001B[0mstatic_mode\u001B[0m \u001B[0;32mand\u001B[0m \u001B[0margs\u001B[0m\u001B[0;34m[\u001B[0m\u001B[0;36m0\u001B[0m\u001B[0;34m]\u001B[0m\u001B[0;34m.\u001B[0m\u001B[0mis_graph_top\u001B[0m\u001B[0;34m:\u001B[0m\u001B[0;34m\u001B[0m\u001B[0;34m\u001B[0m\u001B[0m\n\u001B[1;32m     27\u001B[0m             \u001B[0;31m# finish build graph, set flag\u001B[0m\u001B[0;34m\u001B[0m\u001B[0;34m\u001B[0m\u001B[0;34m\u001B[0m\u001B[0m\n",
      "\u001B[0;32m/content/torchquantum/torchquantum/encoding.py\u001B[0m in \u001B[0;36mforward\u001B[0;34m(self, q_device, x)\u001B[0m\n\u001B[1;32m     69\u001B[0m                 \u001B[0mparams\u001B[0m\u001B[0;34m=\u001B[0m\u001B[0mparams\u001B[0m\u001B[0;34m,\u001B[0m\u001B[0;34m\u001B[0m\u001B[0;34m\u001B[0m\u001B[0m\n\u001B[1;32m     70\u001B[0m                 \u001B[0mstatic\u001B[0m\u001B[0;34m=\u001B[0m\u001B[0mself\u001B[0m\u001B[0;34m.\u001B[0m\u001B[0mstatic_mode\u001B[0m\u001B[0;34m,\u001B[0m\u001B[0;34m\u001B[0m\u001B[0;34m\u001B[0m\u001B[0m\n\u001B[0;32m---> 71\u001B[0;31m                 \u001B[0mparent_graph\u001B[0m\u001B[0;34m=\u001B[0m\u001B[0mself\u001B[0m\u001B[0;34m.\u001B[0m\u001B[0mgraph\u001B[0m\u001B[0;34m\u001B[0m\u001B[0;34m\u001B[0m\u001B[0m\n\u001B[0m\u001B[1;32m     72\u001B[0m             )\n\u001B[1;32m     73\u001B[0m \u001B[0;34m\u001B[0m\u001B[0m\n",
      "\u001B[0;32m/content/torchquantum/torchquantum/functional.py\u001B[0m in \u001B[0;36mry\u001B[0;34m(q_device, wires, params, n_wires, static, parent_graph, inverse, comp_method)\u001B[0m\n\u001B[1;32m   1685\u001B[0m         \u001B[0mstatic\u001B[0m\u001B[0;34m=\u001B[0m\u001B[0mstatic\u001B[0m\u001B[0;34m,\u001B[0m\u001B[0;34m\u001B[0m\u001B[0;34m\u001B[0m\u001B[0m\n\u001B[1;32m   1686\u001B[0m         \u001B[0mparent_graph\u001B[0m\u001B[0;34m=\u001B[0m\u001B[0mparent_graph\u001B[0m\u001B[0;34m,\u001B[0m\u001B[0;34m\u001B[0m\u001B[0;34m\u001B[0m\u001B[0m\n\u001B[0;32m-> 1687\u001B[0;31m         \u001B[0minverse\u001B[0m\u001B[0;34m=\u001B[0m\u001B[0minverse\u001B[0m\u001B[0;34m\u001B[0m\u001B[0;34m\u001B[0m\u001B[0m\n\u001B[0m\u001B[1;32m   1688\u001B[0m     )\n\u001B[1;32m   1689\u001B[0m \u001B[0;34m\u001B[0m\u001B[0m\n",
      "\u001B[0;32m/content/torchquantum/torchquantum/functional.py\u001B[0m in \u001B[0;36mgate_wrapper\u001B[0;34m(name, mat, method, q_device, wires, params, n_wires, static, parent_graph, inverse)\u001B[0m\n\u001B[1;32m    260\u001B[0m                     name in ['qubitunitary', 'qubitunitaryfast',\n\u001B[1;32m    261\u001B[0m                              'qubitunitarystrict']:\n\u001B[0;32m--> 262\u001B[0;31m                 \u001B[0mmatrix\u001B[0m \u001B[0;34m=\u001B[0m \u001B[0mmat\u001B[0m\u001B[0;34m(\u001B[0m\u001B[0mparams\u001B[0m\u001B[0;34m)\u001B[0m\u001B[0;34m\u001B[0m\u001B[0;34m\u001B[0m\u001B[0m\n\u001B[0m\u001B[1;32m    263\u001B[0m             \u001B[0;32melif\u001B[0m \u001B[0mname\u001B[0m \u001B[0;32min\u001B[0m \u001B[0;34m[\u001B[0m\u001B[0;34m'multicnot'\u001B[0m\u001B[0;34m,\u001B[0m \u001B[0;34m'multixcnot'\u001B[0m\u001B[0;34m]\u001B[0m\u001B[0;34m:\u001B[0m\u001B[0;34m\u001B[0m\u001B[0;34m\u001B[0m\u001B[0m\n\u001B[1;32m    264\u001B[0m                 \u001B[0;31m# this is for gates that can be applied to arbitrary numbers of\u001B[0m\u001B[0;34m\u001B[0m\u001B[0;34m\u001B[0m\u001B[0;34m\u001B[0m\u001B[0m\n",
      "\u001B[0;32m/content/torchquantum/torchquantum/functional.py\u001B[0m in \u001B[0;36mry_matrix\u001B[0;34m(params)\u001B[0m\n\u001B[1;32m    354\u001B[0m     \u001B[0mtheta\u001B[0m \u001B[0;34m=\u001B[0m \u001B[0mparams\u001B[0m\u001B[0;34m.\u001B[0m\u001B[0mtype\u001B[0m\u001B[0;34m(\u001B[0m\u001B[0mC_DTYPE\u001B[0m\u001B[0;34m)\u001B[0m\u001B[0;34m\u001B[0m\u001B[0;34m\u001B[0m\u001B[0m\n\u001B[1;32m    355\u001B[0m \u001B[0;34m\u001B[0m\u001B[0m\n\u001B[0;32m--> 356\u001B[0;31m     \u001B[0mco\u001B[0m \u001B[0;34m=\u001B[0m \u001B[0mtorch\u001B[0m\u001B[0;34m.\u001B[0m\u001B[0mcos\u001B[0m\u001B[0;34m(\u001B[0m\u001B[0mtheta\u001B[0m \u001B[0;34m/\u001B[0m \u001B[0;36m2\u001B[0m\u001B[0;34m)\u001B[0m\u001B[0;34m\u001B[0m\u001B[0;34m\u001B[0m\u001B[0m\n\u001B[0m\u001B[1;32m    357\u001B[0m     \u001B[0msi\u001B[0m \u001B[0;34m=\u001B[0m \u001B[0mtorch\u001B[0m\u001B[0;34m.\u001B[0m\u001B[0msin\u001B[0m\u001B[0;34m(\u001B[0m\u001B[0mtheta\u001B[0m \u001B[0;34m/\u001B[0m \u001B[0;36m2\u001B[0m\u001B[0;34m)\u001B[0m\u001B[0;34m\u001B[0m\u001B[0;34m\u001B[0m\u001B[0m\n\u001B[1;32m    358\u001B[0m \u001B[0;34m\u001B[0m\u001B[0m\n",
      "\u001B[0;31mKeyboardInterrupt\u001B[0m: "
     ]
    }
   ]
  },
  {
   "cell_type": "code",
   "source": [],
   "metadata": {
    "id": "Oi0O1RF2Eksg",
    "pycharm": {
     "name": "#%%\n"
    }
   },
   "execution_count": null,
   "outputs": []
  }
 ]
}
